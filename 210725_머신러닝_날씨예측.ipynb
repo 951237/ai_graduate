{
  "nbformat": 4,
  "nbformat_minor": 0,
  "metadata": {
    "colab": {
      "name": "210725 머신러닝 날씨예측.ipynb",
      "provenance": [],
      "mount_file_id": "1RlukuUKrnHndnt2CWoMTepZHgBBh_bEF",
      "authorship_tag": "ABX9TyOFP01l31MvnCHsQ6v2cMEA",
      "include_colab_link": true
    },
    "kernelspec": {
      "name": "python3",
      "display_name": "Python 3"
    },
    "language_info": {
      "name": "python"
    }
  },
  "cells": [
    {
      "cell_type": "markdown",
      "metadata": {
        "id": "view-in-github",
        "colab_type": "text"
      },
      "source": [
        "<a href=\"https://colab.research.google.com/github/951237/ai_graduate/blob/master/210725_%EB%A8%B8%EC%8B%A0%EB%9F%AC%EB%8B%9D_%EB%82%A0%EC%94%A8%EC%98%88%EC%B8%A1.ipynb\" target=\"_parent\"><img src=\"https://colab.research.google.com/assets/colab-badge.svg\" alt=\"Open In Colab\"/></a>"
      ]
    },
    {
      "cell_type": "code",
      "metadata": {
        "id": "fh4YgfeP1LT1"
      },
      "source": [
        "PATH_WEATHER = '/content/drive/MyDrive/data/배추가격예측하기_배추가격 및 기온정보/기온정보_2010-2020.csv'\n",
        "PATH_CABBAGE = '/content/drive/MyDrive/data/배추가격예측하기_배추가격 및 기온정보/배추가격_데이터_예제_price data.csv'\n",
        "PATH_RAIN = '/content/drive/MyDrive/data/배추가격예측하기_배추가격 및 기온정보/강수량정보_2010-2020.csv'"
      ],
      "execution_count": 7,
      "outputs": []
    },
    {
      "cell_type": "code",
      "metadata": {
        "id": "mcvtyA0m2Gpe"
      },
      "source": [
        "import pandas as pd\n",
        "\n",
        "df_cabbage = pd.read_csv(PATH_CABBAGE, parse_dates=['year'])\n",
        "df_rain = pd.read_csv(PATH_RAIN, encoding='CP949', delimiter=',', skiprows=6, parse_dates=['날짜'])\n",
        "df_weather = pd.read_csv(PATH_WEATHER, encoding='CP949', delimiter=',',skiprows=6, parse_dates=['날짜'])"
      ],
      "execution_count": 44,
      "outputs": []
    },
    {
      "cell_type": "code",
      "metadata": {
        "colab": {
          "base_uri": "https://localhost:8080/",
          "height": 205
        },
        "id": "3gpdO4lk4ytE",
        "outputId": "353a4c56-53b8-4049-e6cb-3c4bcfc890d1"
      },
      "source": [
        "df_cabbage.head()"
      ],
      "execution_count": 45,
      "outputs": [
        {
          "output_type": "execute_result",
          "data": {
            "text/html": [
              "<div>\n",
              "<style scoped>\n",
              "    .dataframe tbody tr th:only-of-type {\n",
              "        vertical-align: middle;\n",
              "    }\n",
              "\n",
              "    .dataframe tbody tr th {\n",
              "        vertical-align: top;\n",
              "    }\n",
              "\n",
              "    .dataframe thead th {\n",
              "        text-align: right;\n",
              "    }\n",
              "</style>\n",
              "<table border=\"1\" class=\"dataframe\">\n",
              "  <thead>\n",
              "    <tr style=\"text-align: right;\">\n",
              "      <th></th>\n",
              "      <th>year</th>\n",
              "      <th>avgTemp</th>\n",
              "      <th>minTemp</th>\n",
              "      <th>maxTemp</th>\n",
              "      <th>rainFall</th>\n",
              "      <th>avgPrice</th>\n",
              "    </tr>\n",
              "  </thead>\n",
              "  <tbody>\n",
              "    <tr>\n",
              "      <th>0</th>\n",
              "      <td>2010-01-01</td>\n",
              "      <td>-4.9</td>\n",
              "      <td>-11.0</td>\n",
              "      <td>0.9</td>\n",
              "      <td>0.0</td>\n",
              "      <td>2123</td>\n",
              "    </tr>\n",
              "    <tr>\n",
              "      <th>1</th>\n",
              "      <td>2010-01-02</td>\n",
              "      <td>-3.1</td>\n",
              "      <td>-5.5</td>\n",
              "      <td>5.5</td>\n",
              "      <td>0.8</td>\n",
              "      <td>2123</td>\n",
              "    </tr>\n",
              "    <tr>\n",
              "      <th>2</th>\n",
              "      <td>2010-01-03</td>\n",
              "      <td>-2.9</td>\n",
              "      <td>-6.9</td>\n",
              "      <td>1.4</td>\n",
              "      <td>0.0</td>\n",
              "      <td>2123</td>\n",
              "    </tr>\n",
              "    <tr>\n",
              "      <th>3</th>\n",
              "      <td>2010-01-04</td>\n",
              "      <td>-1.8</td>\n",
              "      <td>-5.1</td>\n",
              "      <td>2.2</td>\n",
              "      <td>5.9</td>\n",
              "      <td>2020</td>\n",
              "    </tr>\n",
              "    <tr>\n",
              "      <th>4</th>\n",
              "      <td>2010-01-05</td>\n",
              "      <td>-5.2</td>\n",
              "      <td>-8.7</td>\n",
              "      <td>-1.8</td>\n",
              "      <td>0.7</td>\n",
              "      <td>2060</td>\n",
              "    </tr>\n",
              "  </tbody>\n",
              "</table>\n",
              "</div>"
            ],
            "text/plain": [
              "        year  avgTemp  minTemp  maxTemp  rainFall  avgPrice\n",
              "0 2010-01-01     -4.9    -11.0      0.9       0.0      2123\n",
              "1 2010-01-02     -3.1     -5.5      5.5       0.8      2123\n",
              "2 2010-01-03     -2.9     -6.9      1.4       0.0      2123\n",
              "3 2010-01-04     -1.8     -5.1      2.2       5.9      2020\n",
              "4 2010-01-05     -5.2     -8.7     -1.8       0.7      2060"
            ]
          },
          "metadata": {
            "tags": []
          },
          "execution_count": 45
        }
      ]
    }
  ]
}