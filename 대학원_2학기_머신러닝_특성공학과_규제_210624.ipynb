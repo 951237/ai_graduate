{
  "nbformat": 4,
  "nbformat_minor": 0,
  "metadata": {
    "colab": {
      "name": "대학원 2학기 머신러닝 특성공학과 규제 210624.ipynb",
      "provenance": [],
      "authorship_tag": "ABX9TyMc7Cd4XFXCNM5haINGRyLM",
      "include_colab_link": true
    },
    "kernelspec": {
      "name": "python3",
      "display_name": "Python 3"
    },
    "language_info": {
      "name": "python"
    }
  },
  "cells": [
    {
      "cell_type": "markdown",
      "metadata": {
        "id": "view-in-github",
        "colab_type": "text"
      },
      "source": [
        "<a href=\"https://colab.research.google.com/github/951237/ai_graduate/blob/master/%EB%8C%80%ED%95%99%EC%9B%90_2%ED%95%99%EA%B8%B0_%EB%A8%B8%EC%8B%A0%EB%9F%AC%EB%8B%9D_%ED%8A%B9%EC%84%B1%EA%B3%B5%ED%95%99%EA%B3%BC_%EA%B7%9C%EC%A0%9C_210624.ipynb\" target=\"_parent\"><img src=\"https://colab.research.google.com/assets/colab-badge.svg\" alt=\"Open In Colab\"/></a>"
      ]
    },
    {
      "cell_type": "code",
      "metadata": {
        "colab": {
          "base_uri": "https://localhost:8080/",
          "height": 204
        },
        "id": "7mMdEGNSreCa",
        "outputId": "cc9523d8-c7a7-4c7a-c3fd-7d69bd2fecb0"
      },
      "source": [
        "# 훈련 데이터 준비\n",
        "import pandas as pd\n",
        "df = pd.read_csv('https://bit.ly/perch_csv')\n",
        "df.head()"
      ],
      "execution_count": 1,
      "outputs": [
        {
          "output_type": "execute_result",
          "data": {
            "text/html": [
              "<div>\n",
              "<style scoped>\n",
              "    .dataframe tbody tr th:only-of-type {\n",
              "        vertical-align: middle;\n",
              "    }\n",
              "\n",
              "    .dataframe tbody tr th {\n",
              "        vertical-align: top;\n",
              "    }\n",
              "\n",
              "    .dataframe thead th {\n",
              "        text-align: right;\n",
              "    }\n",
              "</style>\n",
              "<table border=\"1\" class=\"dataframe\">\n",
              "  <thead>\n",
              "    <tr style=\"text-align: right;\">\n",
              "      <th></th>\n",
              "      <th>length</th>\n",
              "      <th>height</th>\n",
              "      <th>width</th>\n",
              "    </tr>\n",
              "  </thead>\n",
              "  <tbody>\n",
              "    <tr>\n",
              "      <th>0</th>\n",
              "      <td>8.4</td>\n",
              "      <td>2.11</td>\n",
              "      <td>1.41</td>\n",
              "    </tr>\n",
              "    <tr>\n",
              "      <th>1</th>\n",
              "      <td>13.7</td>\n",
              "      <td>3.53</td>\n",
              "      <td>2.00</td>\n",
              "    </tr>\n",
              "    <tr>\n",
              "      <th>2</th>\n",
              "      <td>15.0</td>\n",
              "      <td>3.82</td>\n",
              "      <td>2.43</td>\n",
              "    </tr>\n",
              "    <tr>\n",
              "      <th>3</th>\n",
              "      <td>16.2</td>\n",
              "      <td>4.59</td>\n",
              "      <td>2.63</td>\n",
              "    </tr>\n",
              "    <tr>\n",
              "      <th>4</th>\n",
              "      <td>17.4</td>\n",
              "      <td>4.59</td>\n",
              "      <td>2.94</td>\n",
              "    </tr>\n",
              "  </tbody>\n",
              "</table>\n",
              "</div>"
            ],
            "text/plain": [
              "   length   height   width\n",
              "0     8.4     2.11    1.41\n",
              "1    13.7     3.53    2.00\n",
              "2    15.0     3.82    2.43\n",
              "3    16.2     4.59    2.63\n",
              "4    17.4     4.59    2.94"
            ]
          },
          "metadata": {
            "tags": []
          },
          "execution_count": 1
        }
      ]
    },
    {
      "cell_type": "code",
      "metadata": {
        "colab": {
          "base_uri": "https://localhost:8080/"
        },
        "id": "QA6ASDQmrswZ",
        "outputId": "1de3af03-7944-4b7a-f039-aaa0e20b5dc2"
      },
      "source": [
        "perch_full = df.to_numpy()\n",
        "print(perch_full)"
      ],
      "execution_count": 2,
      "outputs": [
        {
          "output_type": "stream",
          "text": [
            "[[ 8.4   2.11  1.41]\n",
            " [13.7   3.53  2.  ]\n",
            " [15.    3.82  2.43]\n",
            " [16.2   4.59  2.63]\n",
            " [17.4   4.59  2.94]\n",
            " [18.    5.22  3.32]\n",
            " [18.7   5.2   3.12]\n",
            " [19.    5.64  3.05]\n",
            " [19.6   5.14  3.04]\n",
            " [20.    5.08  2.77]\n",
            " [21.    5.69  3.56]\n",
            " [21.    5.92  3.31]\n",
            " [21.    5.69  3.67]\n",
            " [21.3   6.38  3.53]\n",
            " [22.    6.11  3.41]\n",
            " [22.    5.64  3.52]\n",
            " [22.    6.11  3.52]\n",
            " [22.    5.88  3.52]\n",
            " [22.    5.52  4.  ]\n",
            " [22.5   5.86  3.62]\n",
            " [22.5   6.79  3.62]\n",
            " [22.7   5.95  3.63]\n",
            " [23.    5.22  3.63]\n",
            " [23.5   6.28  3.72]\n",
            " [24.    7.29  3.72]\n",
            " [24.    6.38  3.82]\n",
            " [24.6   6.73  4.17]\n",
            " [25.    6.44  3.68]\n",
            " [25.6   6.56  4.24]\n",
            " [26.5   7.17  4.14]\n",
            " [27.3   8.32  5.14]\n",
            " [27.5   7.17  4.34]\n",
            " [27.5   7.05  4.34]\n",
            " [27.5   7.28  4.57]\n",
            " [28.    7.82  4.2 ]\n",
            " [28.7   7.59  4.64]\n",
            " [30.    7.62  4.77]\n",
            " [32.8  10.03  6.02]\n",
            " [34.5  10.26  6.39]\n",
            " [35.   11.49  7.8 ]\n",
            " [36.5  10.88  6.86]\n",
            " [36.   10.61  6.74]\n",
            " [37.   10.84  6.26]\n",
            " [37.   10.57  6.37]\n",
            " [39.   11.14  7.49]\n",
            " [39.   11.14  6.  ]\n",
            " [39.   12.43  7.35]\n",
            " [40.   11.93  7.11]\n",
            " [40.   11.73  7.22]\n",
            " [40.   12.38  7.46]\n",
            " [40.   11.14  6.63]\n",
            " [42.   12.8   6.87]\n",
            " [43.   11.93  7.28]\n",
            " [43.   12.51  7.42]\n",
            " [43.5  12.6   8.14]\n",
            " [44.   12.49  7.6 ]]\n"
          ],
          "name": "stdout"
        }
      ]
    },
    {
      "cell_type": "code",
      "metadata": {
        "id": "3-2djT2Mr_7-"
      },
      "source": [
        "# 타겟 데이터 준비\n",
        "import numpy as np"
      ],
      "execution_count": 3,
      "outputs": []
    },
    {
      "cell_type": "code",
      "metadata": {
        "id": "MsSGbZjcsT8A"
      },
      "source": [
        "perch_weight = np.array([5.9, 32.0, 40.0, 51.5, 70.0, 100.0, 78.0, 80.0, 85.0, 85.0, 110.0,\n",
        "       115.0, 125.0, 130.0, 120.0, 120.0, 130.0, 135.0, 110.0, 130.0,\n",
        "       150.0, 145.0, 150.0, 170.0, 225.0, 145.0, 188.0, 180.0, 197.0,\n",
        "       218.0, 300.0, 260.0, 265.0, 250.0, 250.0, 300.0, 320.0, 514.0,\n",
        "       556.0, 840.0, 685.0, 700.0, 700.0, 690.0, 900.0, 650.0, 820.0,\n",
        "       850.0, 900.0, 1015.0, 820.0, 1100.0, 1000.0, 1100.0, 1000.0,\n",
        "       1000.0])"
      ],
      "execution_count": 4,
      "outputs": []
    },
    {
      "cell_type": "code",
      "metadata": {
        "id": "5rv9rfRLsUxd"
      },
      "source": [
        "from sklearn.model_selection import train_test_split\n",
        "train_input, test_input, train_target, test_target = train_test_split(perch_full, perch_weight, random_state = 42)"
      ],
      "execution_count": 5,
      "outputs": []
    },
    {
      "cell_type": "code",
      "metadata": {
        "id": "vkkgvZbpsm-t"
      },
      "source": [
        "# 데이터의 특성을 만들거나 전처리하기 위한 클래스 : 변환기\n",
        "from sklearn.preprocessing import PolynomialFeatures"
      ],
      "execution_count": 6,
      "outputs": []
    },
    {
      "cell_type": "code",
      "metadata": {
        "colab": {
          "base_uri": "https://localhost:8080/"
        },
        "id": "Ge69P1sTsy8n",
        "outputId": "5e03df25-973c-4ad9-f135-804296a5df61"
      },
      "source": [
        "poly = PolynomialFeatures()\n",
        "poly.fit([[2,3]])\n",
        "print(poly.transform([[2,3]]))"
      ],
      "execution_count": 7,
      "outputs": [
        {
          "output_type": "stream",
          "text": [
            "[[1. 2. 3. 4. 6. 9.]]\n"
          ],
          "name": "stdout"
        }
      ]
    },
    {
      "cell_type": "code",
      "metadata": {
        "colab": {
          "base_uri": "https://localhost:8080/"
        },
        "id": "JxFFHAMHs8bF",
        "outputId": "6f7d14cf-bed1-456c-a31d-42c9c48db6ac"
      },
      "source": [
        "# train_input에 적용\n",
        "poly = PolynomialFeatures(include_bias=False)\n",
        "poly.fit(train_input)\n",
        "train_poly = poly.transform(train_input)\n",
        "print(train_poly.shape)"
      ],
      "execution_count": 9,
      "outputs": [
        {
          "output_type": "stream",
          "text": [
            "(42, 9)\n"
          ],
          "name": "stdout"
        }
      ]
    },
    {
      "cell_type": "code",
      "metadata": {
        "colab": {
          "base_uri": "https://localhost:8080/"
        },
        "id": "IN9YIofhtaEK",
        "outputId": "38739d0c-e31a-4692-d49a-44b8de591272"
      },
      "source": [
        "# 조합된 데이터 특성이 어떤 특성의 조합으로 만들어졌는지 확인\n",
        "poly.get_feature_names()"
      ],
      "execution_count": 10,
      "outputs": [
        {
          "output_type": "execute_result",
          "data": {
            "text/plain": [
              "['x0', 'x1', 'x2', 'x0^2', 'x0 x1', 'x0 x2', 'x1^2', 'x1 x2', 'x2^2']"
            ]
          },
          "metadata": {
            "tags": []
          },
          "execution_count": 10
        }
      ]
    },
    {
      "cell_type": "code",
      "metadata": {
        "colab": {
          "base_uri": "https://localhost:8080/"
        },
        "id": "M6Mh6x91tl3g",
        "outputId": "130e7fd3-d834-4189-bbeb-976c541ccbed"
      },
      "source": [
        "test_poly = poly.transform(test_input)\n",
        "print([test_poly])"
      ],
      "execution_count": 11,
      "outputs": [
        {
          "output_type": "stream",
          "text": [
            "[array([[8.400000e+00, 2.110000e+00, 1.410000e+00, 7.056000e+01,\n",
            "        1.772400e+01, 1.184400e+01, 4.452100e+00, 2.975100e+00,\n",
            "        1.988100e+00],\n",
            "       [1.800000e+01, 5.220000e+00, 3.320000e+00, 3.240000e+02,\n",
            "        9.396000e+01, 5.976000e+01, 2.724840e+01, 1.733040e+01,\n",
            "        1.102240e+01],\n",
            "       [2.750000e+01, 7.280000e+00, 4.570000e+00, 7.562500e+02,\n",
            "        2.002000e+02, 1.256750e+02, 5.299840e+01, 3.326960e+01,\n",
            "        2.088490e+01],\n",
            "       [2.130000e+01, 6.380000e+00, 3.530000e+00, 4.536900e+02,\n",
            "        1.358940e+02, 7.518900e+01, 4.070440e+01, 2.252140e+01,\n",
            "        1.246090e+01],\n",
            "       [2.250000e+01, 5.860000e+00, 3.620000e+00, 5.062500e+02,\n",
            "        1.318500e+02, 8.145000e+01, 3.433960e+01, 2.121320e+01,\n",
            "        1.310440e+01],\n",
            "       [4.000000e+01, 1.114000e+01, 6.630000e+00, 1.600000e+03,\n",
            "        4.456000e+02, 2.652000e+02, 1.240996e+02, 7.385820e+01,\n",
            "        4.395690e+01],\n",
            "       [3.000000e+01, 7.620000e+00, 4.770000e+00, 9.000000e+02,\n",
            "        2.286000e+02, 1.431000e+02, 5.806440e+01, 3.634740e+01,\n",
            "        2.275290e+01],\n",
            "       [2.460000e+01, 6.730000e+00, 4.170000e+00, 6.051600e+02,\n",
            "        1.655580e+02, 1.025820e+02, 4.529290e+01, 2.806410e+01,\n",
            "        1.738890e+01],\n",
            "       [3.900000e+01, 1.114000e+01, 7.490000e+00, 1.521000e+03,\n",
            "        4.344600e+02, 2.921100e+02, 1.240996e+02, 8.343860e+01,\n",
            "        5.610010e+01],\n",
            "       [2.100000e+01, 5.690000e+00, 3.670000e+00, 4.410000e+02,\n",
            "        1.194900e+02, 7.707000e+01, 3.237610e+01, 2.088230e+01,\n",
            "        1.346890e+01],\n",
            "       [4.350000e+01, 1.260000e+01, 8.140000e+00, 1.892250e+03,\n",
            "        5.481000e+02, 3.540900e+02, 1.587600e+02, 1.025640e+02,\n",
            "        6.625960e+01],\n",
            "       [1.620000e+01, 4.590000e+00, 2.630000e+00, 2.624400e+02,\n",
            "        7.435800e+01, 4.260600e+01, 2.106810e+01, 1.207170e+01,\n",
            "        6.916900e+00],\n",
            "       [2.800000e+01, 7.820000e+00, 4.200000e+00, 7.840000e+02,\n",
            "        2.189600e+02, 1.176000e+02, 6.115240e+01, 3.284400e+01,\n",
            "        1.764000e+01],\n",
            "       [2.730000e+01, 8.320000e+00, 5.140000e+00, 7.452900e+02,\n",
            "        2.271360e+02, 1.403220e+02, 6.922240e+01, 4.276480e+01,\n",
            "        2.641960e+01]])]\n"
          ],
          "name": "stdout"
        }
      ]
    },
    {
      "cell_type": "code",
      "metadata": {
        "id": "itHjchf7t2kd"
      },
      "source": [
        ""
      ],
      "execution_count": null,
      "outputs": []
    }
  ]
}