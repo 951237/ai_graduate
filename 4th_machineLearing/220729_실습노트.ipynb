{
 "cells": [
  {
   "cell_type": "markdown",
   "id": "f3010ade",
   "metadata": {},
   "source": [
    "## 특징\n",
    "1. 코드를 cell단위로 작성 및 실행\n",
    "1. 그래프나 표 등을 실시간으로 확인\n",
    "1. html, pdf등 파일로 저장"
   ]
  },
  {
   "cell_type": "code",
   "execution_count": null,
   "id": "7975a9ba",
   "metadata": {},
   "outputs": [],
   "source": []
  },
  {
   "cell_type": "code",
   "execution_count": null,
   "id": "199f3cbd",
   "metadata": {},
   "outputs": [],
   "source": []
  }
 ],
 "metadata": {
  "kernelspec": {
   "display_name": "Python 3 (ipykernel)",
   "language": "python",
   "name": "python3"
  },
  "language_info": {
   "codemirror_mode": {
    "name": "ipython",
    "version": 3
   },
   "file_extension": ".py",
   "mimetype": "text/x-python",
   "name": "python",
   "nbconvert_exporter": "python",
   "pygments_lexer": "ipython3",
   "version": "3.8.7"
  }
 },
 "nbformat": 4,
 "nbformat_minor": 5
}
