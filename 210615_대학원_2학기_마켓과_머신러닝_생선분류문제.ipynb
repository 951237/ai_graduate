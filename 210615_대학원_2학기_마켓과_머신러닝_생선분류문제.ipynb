{
  "nbformat": 4,
  "nbformat_minor": 0,
  "metadata": {
    "colab": {
      "name": "210615 대학원 2학기 마켓과 머신러닝 생선분류문제.ipynb",
      "provenance": [],
      "authorship_tag": "ABX9TyPY3uxyIzhbBwsxSgxIIyxn",
      "include_colab_link": true
    },
    "kernelspec": {
      "name": "python3",
      "display_name": "Python 3"
    },
    "language_info": {
      "name": "python"
    }
  },
  "cells": [
    {
      "cell_type": "markdown",
      "metadata": {
        "id": "view-in-github",
        "colab_type": "text"
      },
      "source": [
        "<a href=\"https://colab.research.google.com/github/951237/ai_graduate/blob/master/210615_%EB%8C%80%ED%95%99%EC%9B%90_2%ED%95%99%EA%B8%B0_%EB%A7%88%EC%BC%93%EA%B3%BC_%EB%A8%B8%EC%8B%A0%EB%9F%AC%EB%8B%9D_%EC%83%9D%EC%84%A0%EB%B6%84%EB%A5%98%EB%AC%B8%EC%A0%9C.ipynb\" target=\"_parent\"><img src=\"https://colab.research.google.com/assets/colab-badge.svg\" alt=\"Open In Colab\"/></a>"
      ]
    },
    {
      "cell_type": "markdown",
      "metadata": {
        "id": "p5b1q9fo02dE"
      },
      "source": [
        "# 210615 마켓과 머신러닝"
      ]
    },
    {
      "cell_type": "code",
      "metadata": {
        "id": "EOH7eXYy1lWG"
      },
      "source": [
        "# 도미의 길이\n",
        "bream_length = [25.4, 26.3, 26.5, 29.0, 29.0, 29.7, 29.7, 30.0, 30.0, 30.7, 31.0, 31.0, \n",
        "                31.5, 32.0, 32.0, 32.0, 33.0, 33.0, 33.5, 33.5, 34.0, 34.0, 34.5, 35.0, \n",
        "                35.0, 35.0, 35.0, 36.0, 36.0, 37.0, 38.5, 38.5, 39.5, 41.0, 41.0]\n",
        "bream_weight = [242.0, 290.0, 340.0, 363.0, 430.0, 450.0, 500.0, 390.0, 450.0, 500.0, 475.0, 500.0, \n",
        "                500.0, 340.0, 600.0, 600.0, 700.0, 700.0, 610.0, 650.0, 575.0, 685.0, 620.0, 680.0, \n",
        "                700.0, 725.0, 720.0, 714.0, 850.0, 1000.0, 920.0, 955.0, 925.0, 975.0, 950.0]"
      ],
      "execution_count": null,
      "outputs": []
    },
    {
      "cell_type": "code",
      "metadata": {
        "colab": {
          "base_uri": "https://localhost:8080/",
          "height": 279
        },
        "id": "PlyGP_4T1uGl",
        "outputId": "4fe475a8-ad0e-427c-cb9a-3cc06bc80a40"
      },
      "source": [
        "# 산점도 그래프로 나타내기\n",
        "import matplotlib.pyplot as plt\n",
        "\n",
        "plt.scatter(bream_length, bream_weight)\n",
        "plt.xlabel(\"length\")\n",
        "plt.ylabel(\"weight\")\n",
        "plt.show()"
      ],
      "execution_count": null,
      "outputs": [
        {
          "output_type": "display_data",
          "data": {
            "image/png": "[encoded data removed]",
            "text/plain": [
              "<Figure size 432x288 with 1 Axes>"
            ]
          },
          "metadata": {
            "tags": [],
            "needs_background": "light"
          }
        }
      ]
    },
    {
      "cell_type": "code",
      "metadata": {
        "id": "5fvvpAsx16Ec"
      },
      "source": [
        "# 빙어의 길이\n",
        "smelt_length = [9.8, 10.5, 10.6, 11.0, 11.2, 11.3, 11.8, 11.8, 12.0, 12.2, 12.4, 13.0, 14.3, 15.0]\n",
        "smelt_weight = [6.7, 7.5, 7.0, 9.7, 9.8, 8.7, 10.0, 9.9, 9.8, 12.2, 13.4, 12.2, 19.7, 19.9]\n"
      ],
      "execution_count": null,
      "outputs": []
    },
    {
      "cell_type": "code",
      "metadata": {
        "colab": {
          "base_uri": "https://localhost:8080/",
          "height": 279
        },
        "id": "SYFGf2iM2MN9",
        "outputId": "00e9cbad-64da-4fde-9745-e5aebbfd137b"
      },
      "source": [
        "# 스래프를 2개를 한꺼번에 그리기\n",
        "plt.scatter(bream_length, bream_weight)\n",
        "plt.scatter(smelt_length, smelt_weight)\n",
        "plt.xlabel(\"length\")\n",
        "plt.ylabel('weight')\n",
        "plt.show()"
      ],
      "execution_count": null,
      "outputs": [
        {
          "output_type": "display_data",
          "data": {
            "image/png": "[encoded data removed]",
            "text/plain": [
              "<Figure size 432x288 with 1 Axes>"
            ]
          },
          "metadata": {
            "tags": [],
            "needs_background": "light"
          }
        }
      ]
    },
    {
      "cell_type": "code",
      "metadata": {
        "id": "b5sVJ8wA2RAl"
      },
      "source": [
        "# 결과분석\n",
        "# 빙어는 무게가 길이에 영향을 덜 받음."
      ],
      "execution_count": null,
      "outputs": []
    },
    {
      "cell_type": "code",
      "metadata": {
        "id": "TcF7i06A2n4V"
      },
      "source": [
        "# 도미와 빙어 데이터 합치기\n",
        "length = bream_length + smelt_length\n",
        "weight = bream_weight + smelt_weight"
      ],
      "execution_count": null,
      "outputs": []
    },
    {
      "cell_type": "code",
      "metadata": {
        "colab": {
          "base_uri": "https://localhost:8080/"
        },
        "id": "rTsYGg7J25al",
        "outputId": "fa0d871d-399d-447a-9b4a-f7ac9e53e8f6"
      },
      "source": [
        "# 합친 데이터를 2차원 리스트로 만들기\n",
        "# 한줄로 나타내면\n",
        "# fish_data = [[l,w] for l,w in zip(lengh, weight)]\n",
        "# 가독성있게 여러줄로 나타내기 !!!\n",
        "fish_data = []\n",
        "for l, w in zip(length, weight):\n",
        "    fish_data.append([l,w])\n",
        "print(fish_data)"
      ],
      "execution_count": null,
      "outputs": [
        {
          "output_type": "stream",
          "text": [
            "[[25.4, 242.0], [26.3, 290.0], [26.5, 340.0], [29.0, 363.0], [29.0, 430.0], [29.7, 450.0], [29.7, 500.0], [30.0, 390.0], [30.0, 450.0], [30.7, 500.0], [31.0, 475.0], [31.0, 500.0], [31.5, 500.0], [32.0, 340.0], [32.0, 600.0], [32.0, 600.0], [33.0, 700.0], [33.0, 700.0], [33.5, 610.0], [33.5, 650.0], [34.0, 575.0], [34.0, 685.0], [34.5, 620.0], [35.0, 680.0], [35.0, 700.0], [35.0, 725.0], [35.0, 720.0], [36.0, 714.0], [36.0, 850.0], [37.0, 1000.0], [38.5, 920.0], [38.5, 955.0], [39.5, 925.0], [41.0, 975.0], [41.0, 950.0], [9.8, 6.7], [10.5, 7.5], [10.6, 7.0], [11.0, 9.7], [11.2, 9.8], [11.3, 8.7], [11.8, 10.0], [11.8, 9.9], [12.0, 9.8], [12.2, 12.2], [12.4, 13.4], [13.0, 12.2], [14.3, 19.7], [15.0, 19.9]]\n"
          ],
          "name": "stdout"
        }
      ]
    },
    {
      "cell_type": "code",
      "metadata": {
        "colab": {
          "base_uri": "https://localhost:8080/"
        },
        "id": "zhnD6PzR3h7V",
        "outputId": "192b318e-ba5a-4e89-b51f-3ee3a455e444"
      },
      "source": [
        "len(bream_length)"
      ],
      "execution_count": null,
      "outputs": [
        {
          "output_type": "execute_result",
          "data": {
            "text/plain": [
              "35"
            ]
          },
          "metadata": {
            "tags": []
          },
          "execution_count": 21
        }
      ]
    },
    {
      "cell_type": "code",
      "metadata": {
        "id": "pXabaQVc4k-K"
      },
      "source": [
        "# 정답데이터 준비하기 : 도미 = 1, 빙어 = 0\n",
        "fish_target = [1] * 35 + [0] * 14"
      ],
      "execution_count": null,
      "outputs": []
    },
    {
      "cell_type": "code",
      "metadata": {
        "id": "Ld3dtwk642Rk"
      },
      "source": [
        "# k-최근접 이웃 준비하기\n",
        "from sklearn.neighbors import KNeighborsClassifier\n",
        "kn = KNeighborsClassifier()"
      ],
      "execution_count": null,
      "outputs": []
    },
    {
      "cell_type": "code",
      "metadata": {
        "colab": {
          "base_uri": "https://localhost:8080/"
        },
        "id": "hVkLPZD45E_8",
        "outputId": "49264adb-907d-42b3-f122-fe98c3d25334"
      },
      "source": [
        "# 훈련 및 평가하기\n",
        "kn.fit(fish_data, fish_target)\n",
        "kn.score(fish_data, fish_target)"
      ],
      "execution_count": null,
      "outputs": [
        {
          "output_type": "execute_result",
          "data": {
            "text/plain": [
              "1.0"
            ]
          },
          "metadata": {
            "tags": []
          },
          "execution_count": 26
        }
      ]
    },
    {
      "cell_type": "code",
      "metadata": {
        "colab": {
          "base_uri": "https://localhost:8080/"
        },
        "id": "Q-BAPEsZ5je6",
        "outputId": "ca5661ff-af3d-41d0-faf6-1da8ef8e1083"
      },
      "source": [
        "kn49 = KNeighborsClassifier(n_neighbors=49)\n",
        "kn49.fit(fish_data, fish_target)\n",
        "kn49.score(fish_data, fish_target)"
      ],
      "execution_count": null,
      "outputs": [
        {
          "output_type": "execute_result",
          "data": {
            "text/plain": [
              "0.7142857142857143"
            ]
          },
          "metadata": {
            "tags": []
          },
          "execution_count": 29
        }
      ]
    },
    {
      "cell_type": "markdown",
      "metadata": {
        "id": "3Y2UcMk_58Sa"
      },
      "source": [
        "# 210616_넘파이를 이용한 데이터 준비하기\n",
        "\n"
      ]
    },
    {
      "cell_type": "code",
      "metadata": {
        "id": "3aM4EKxwFpKc"
      },
      "source": [
        "import numpy as np"
      ],
      "execution_count": null,
      "outputs": []
    },
    {
      "cell_type": "code",
      "metadata": {
        "id": "PEtV0d-QGDFW"
      },
      "source": [
        "# 생선데이터\n",
        "# 도미의 길이\n",
        "\n",
        "fish_length = [25.4, 26.3, 26.5, 29.0, 29.0, 29.7, 29.7, 30.0, 30.0, 30.7, 31.0, 31.0, \n",
        "                31.5, 32.0, 32.0, 32.0, 33.0, 33.0, 33.5, 33.5, 34.0, 34.0, 34.5, 35.0, \n",
        "                35.0, 35.0, 35.0, 36.0, 36.0, 37.0, 38.5, 38.5, 39.5, 41.0, 41.0, 9.8, \n",
        "                10.5, 10.6, 11.0, 11.2, 11.3, 11.8, 11.8, 12.0, 12.2, 12.4, 13.0, 14.3, 15.0]\n",
        "fish_weight = [242.0, 290.0, 340.0, 363.0, 430.0, 450.0, 500.0, 390.0, 450.0, 500.0, 475.0, 500.0, \n",
        "                500.0, 340.0, 600.0, 600.0, 700.0, 700.0, 610.0, 650.0, 575.0, 685.0, 620.0, 680.0, \n",
        "                700.0, 725.0, 720.0, 714.0, 850.0, 1000.0, 920.0, 955.0, 925.0, 975.0, 950.0, 6.7, \n",
        "                7.5, 7.0, 9.7, 9.8, 8.7, 10.0, 9.9, 9.8, 12.2, 13.4, 12.2, 19.7, 19.9]"
      ],
      "execution_count": null,
      "outputs": []
    },
    {
      "cell_type": "code",
      "metadata": {
        "id": "rf6FMukfGiV_"
      },
      "source": [
        "# 넘파이를 이용해서 리스트를 합쳐서 튜플로 전달\n",
        "# np.column_stack(([1,2,3],[4,5,6]))\n",
        "fish_data = np.column_stack((fish_length, fish_weight))\n",
        "fish_target = np.concatenate((np.ones(35), np.zeros(14))) # 도미 35개, 빙어 14개의 데이터 모음"
      ],
      "execution_count": null,
      "outputs": []
    },
    {
      "cell_type": "markdown",
      "metadata": {
        "id": "0UxPS6JgGoo4"
      },
      "source": [
        "# 210617 훈련세트와 테스트세트 준비하기"
      ]
    },
    {
      "cell_type": "code",
      "metadata": {
        "id": "-U5xVYT5G0lG"
      },
      "source": [
        "from sklearn.model_selection import train_test_split"
      ],
      "execution_count": null,
      "outputs": []
    },
    {
      "cell_type": "code",
      "metadata": {
        "id": "-sTNL6CXMk0O"
      },
      "source": [
        "# 훈련세트와 테스트 세트 만들기 \n",
        "# strafify : 원데이터의 클래스 비율에 비례하여 데이터 분할 가능\n",
        "train_input, test_input, train_target, test_target = train_test_split(fish_data, fish_target, stratify=fish_target,random_state = 42)"
      ],
      "execution_count": null,
      "outputs": []
    },
    {
      "cell_type": "code",
      "metadata": {
        "colab": {
          "base_uri": "https://localhost:8080/"
        },
        "id": "7DOdbeQINw2x",
        "outputId": "45a0bf14-ea09-4594-fdfa-89dafb8aecc0"
      },
      "source": [
        "# K-최근접 이웃으로 훈련\n",
        "from sklearn.neighbors import KNeighborsClassifier\n",
        "kn = KNeighborsClassifier()\n",
        "kn.fit(train_input, train_target)\n",
        "kn.score(test_input, test_target)"
      ],
      "execution_count": null,
      "outputs": [
        {
          "output_type": "execute_result",
          "data": {
            "text/plain": [
              "1.0"
            ]
          },
          "metadata": {
            "tags": []
          },
          "execution_count": 38
        }
      ]
    },
    {
      "cell_type": "code",
      "metadata": {
        "colab": {
          "base_uri": "https://localhost:8080/"
        },
        "id": "YXAwzPetO9NB",
        "outputId": "71af2e0c-c724-45f1-a0be-085186ce3948"
      },
      "source": [
        "# 새로운 데이터 넣고 결과 예측하기\n",
        "print(kn.predict([[25,150]]))"
      ],
      "execution_count": null,
      "outputs": [
        {
          "output_type": "stream",
          "text": [
            "[0.]\n"
          ],
          "name": "stdout"
        }
      ]
    },
    {
      "cell_type": "code",
      "metadata": {
        "colab": {
          "base_uri": "https://localhost:8080/",
          "height": 279
        },
        "id": "K7Mqq7zHPFho",
        "outputId": "1b1efe79-f74c-4f17-f0ad-17f0343f2374"
      },
      "source": [
        "# 산점도 확인해보기\n",
        "import matplotlib.pyplot as plt\n",
        "plt.scatter(train_input[:,0], train_input[:,1])\n",
        "plt.scatter(25,150, marker=\"^\") # 삼각형으로 표시\n",
        "plt.xlabel('length')\n",
        "plt.ylabel(\"weight\")\n",
        "plt.show()"
      ],
      "execution_count": null,
      "outputs": [
        {
          "output_type": "display_data",
          "data": {
            "image/png": "[encoded data removed]",
            "text/plain": [
              "<Figure size 432x288 with 1 Axes>"
            ]
          },
          "metadata": {
            "tags": [],
            "needs_background": "light"
          }
        }
      ]
    },
    {
      "cell_type": "code",
      "metadata": {
        "colab": {
          "base_uri": "https://localhost:8080/"
        },
        "id": "iSLu-dfTPlZm",
        "outputId": "d79e3728-6cee-4439-d911-0107746c4389"
      },
      "source": [
        "# kneighbors()메서드로 거리와 인덱스 구하기\n",
        "distances, indexes = kn.kneighbors([[25, 150]])\n",
        "distances"
      ],
      "execution_count": null,
      "outputs": [
        {
          "output_type": "execute_result",
          "data": {
            "text/plain": [
              "array([[ 92.00086956, 130.48375378, 130.73859415, 138.32150953,\n",
              "        138.39320793]])"
            ]
          },
          "metadata": {
            "tags": []
          },
          "execution_count": 41
        }
      ]
    },
    {
      "cell_type": "code",
      "metadata": {
        "colab": {
          "base_uri": "https://localhost:8080/"
        },
        "id": "BiwJOvyUP8bB",
        "outputId": "e9bb49f6-bb7d-4ffe-c693-e6eef245f6b6"
      },
      "source": [
        "indexes"
      ],
      "execution_count": null,
      "outputs": [
        {
          "output_type": "execute_result",
          "data": {
            "text/plain": [
              "array([[21, 33, 19, 30,  1]])"
            ]
          },
          "metadata": {
            "tags": []
          },
          "execution_count": 42
        }
      ]
    },
    {
      "cell_type": "code",
      "metadata": {
        "colab": {
          "base_uri": "https://localhost:8080/",
          "height": 279
        },
        "id": "dlYTsu5ZQJtd",
        "outputId": "61daf5c0-c1af-473e-a0e8-2cd6557651b2"
      },
      "source": [
        "# 산점도 확인\n",
        "plt.scatter(train_input[:,0], train_input[:,1])\n",
        "plt.scatter(25,150,marker=\"^\")\n",
        "plt.scatter(train_input[indexes, 0], train_input[indexes,1], marker=\"D\") # 마름모 표시\n",
        "plt.xlabel(\"length\")\n",
        "plt.ylabel(\"weight\")\n",
        "plt.show()"
      ],
      "execution_count": null,
      "outputs": [
        {
          "output_type": "display_data",
          "data": {
            "image/png": "[encoded data removed]",
            "text/plain": [
              "<Figure size 432x288 with 1 Axes>"
            ]
          },
          "metadata": {
            "tags": [],
            "needs_background": "light"
          }
        }
      ]
    },
    {
      "cell_type": "markdown",
      "metadata": {
        "id": "Fhb6CQEWRFqn"
      },
      "source": [
        "# 210618 데이터 전처리\n",
        "- 기준 맞추기 xlim()함수"
      ]
    },
    {
      "cell_type": "code",
      "metadata": {
        "colab": {
          "base_uri": "https://localhost:8080/",
          "height": 279
        },
        "id": "9n0gCnzhFHvA",
        "outputId": "b0f653e8-5b7e-4c81-95ee-9c762464b972"
      },
      "source": [
        "# 산점도 확인\n",
        "plt.scatter(train_input[:,0], train_input[:,1])\n",
        "plt.scatter(25,150,marker=\"^\")\n",
        "plt.scatter(train_input[indexes, 0], train_input[indexes,1], marker=\"D\") # 마름모 표시\n",
        "plt.xlim(0, 1000)\n",
        "plt.xlabel(\"length\")\n",
        "plt.ylabel(\"weight\")\n",
        "plt.show()"
      ],
      "execution_count": null,
      "outputs": [
        {
          "output_type": "display_data",
          "data": {
            "image/png": "[encoded data removed]",
            "text/plain": [
              "<Figure size 432x288 with 1 Axes>"
            ]
          },
          "metadata": {
            "tags": [],
            "needs_background": "light"
          }
        }
      ]
    },
    {
      "cell_type": "markdown",
      "metadata": {
        "id": "3TlJnQvMFVVY"
      },
      "source": [
        "- KNN과 같이 거리 기반 알고리즘의 경우 스케일이 다르면 올바른 예측이 어려움\n",
        "- 샘플의 특성값 일정한 기준으로 맞추어야 함."
      ]
    },
    {
      "cell_type": "code",
      "metadata": {
        "colab": {
          "base_uri": "https://localhost:8080/"
        },
        "id": "rN9pASHBFk2_",
        "outputId": "1082c48b-3f39-4fad-d5b4-af53bb253767"
      },
      "source": [
        "# 기준 맞추기 - 표준점수로 처리하기\n",
        "mean = np.mean(train_input, axis=0)\n",
        "std = np.std(train_input, axis=0)\n",
        "print(mean, std)"
      ],
      "execution_count": null,
      "outputs": [
        {
          "output_type": "stream",
          "text": [
            "[ 27.29722222 454.09722222] [  9.98244253 323.29893931]\n"
          ],
          "name": "stdout"
        }
      ]
    },
    {
      "cell_type": "code",
      "metadata": {
        "colab": {
          "base_uri": "https://localhost:8080/"
        },
        "id": "4YBagz2zF6ww",
        "outputId": "5ddc4220-e0e6-4576-dad8-e60407166219"
      },
      "source": [
        "train_scaled = (train_input - mean) / std\n",
        "train_scaled"
      ],
      "execution_count": null,
      "outputs": [
        {
          "output_type": "execute_result",
          "data": {
            "text/plain": [
              "array([[ 0.24070039,  0.14198246],\n",
              "       [-1.51237757, -1.36683783],\n",
              "       [ 0.5712808 ,  0.76060496],\n",
              "       [-1.60253587, -1.37766373],\n",
              "       [ 1.22242404,  1.45655528],\n",
              "       [ 0.17057727, -0.07453542],\n",
              "       [ 0.87180845,  0.80390854],\n",
              "       [ 0.87180845,  1.22457184],\n",
              "       [ 0.37092904,  0.06465464],\n",
              "       [ 0.77163257,  0.82246721],\n",
              "       [ 0.97198434,  1.68853872],\n",
              "       [-1.61255346, -1.3742613 ],\n",
              "       [ 0.72154463,  0.51315596],\n",
              "       [-1.53241275, -1.3742613 ],\n",
              "       [ 0.17057727, -0.28177396],\n",
              "       [ 0.5712808 ,  0.76060496],\n",
              "       [ 0.34087627,  0.14198246],\n",
              "       [ 1.12224816,  1.54934866],\n",
              "       [ 0.62136874,  0.60594934],\n",
              "       [-1.30200822, -1.34363949],\n",
              "       [ 0.42101698,  0.14198246],\n",
              "       [-0.19005591, -0.65604058],\n",
              "       [-1.75279969, -1.38384995],\n",
              "       [ 0.47110492,  0.45129371],\n",
              "       [-1.68267658, -1.38137546],\n",
              "       [ 0.62136874,  0.48222484],\n",
              "       [-1.67265899, -1.38292202],\n",
              "       [ 0.77163257,  0.76060496],\n",
              "       [ 0.47110492,  0.45129371],\n",
              "       [ 0.77163257,  0.83793278],\n",
              "       [-1.43223687, -1.36683783],\n",
              "       [ 0.27075315, -0.01267317],\n",
              "       [ 0.47110492, -0.35291555],\n",
              "       [-1.2318851 , -1.34302087],\n",
              "       [ 0.27075315, -0.19825992],\n",
              "       [ 1.37268787,  1.61121091]])"
            ]
          },
          "metadata": {
            "tags": []
          },
          "execution_count": 46
        }
      ]
    },
    {
      "cell_type": "code",
      "metadata": {
        "colab": {
          "base_uri": "https://localhost:8080/",
          "height": 279
        },
        "id": "XPz0WradGFcQ",
        "outputId": "e9a880db-a20c-4fe5-dc92-f228c88b6f81"
      },
      "source": [
        "# 샘플 도미 데이터 다시 산점도 확인하기\n",
        "plt.scatter(train_scaled[:,0], train_scaled[:,1])\n",
        "plt.scatter(25, 160, marker=\"^\")\n",
        "plt.xlabel('length')\n",
        "plt.ylabel('weight')\n",
        "plt.show()"
      ],
      "execution_count": null,
      "outputs": [
        {
          "output_type": "display_data",
          "data": {
            "image/png": "[encoded data removed]",
            "text/plain": [
              "<Figure size 432x288 with 1 Axes>"
            ]
          },
          "metadata": {
            "tags": [],
            "needs_background": "light"
          }
        }
      ]
    },
    {
      "cell_type": "code",
      "metadata": {
        "colab": {
          "base_uri": "https://localhost:8080/",
          "height": 279
        },
        "id": "I7N_RkivGuly",
        "outputId": "6d1b42a1-032b-4b5e-9957-b2f60dda09e4"
      },
      "source": [
        "# 샘플데이터 표준점수 만들어 다시 산점도 확인하기\n",
        "new = ([25, 150]-mean)/std\n",
        "plt.scatter(train_scaled[:,0], train_scaled[:,1])\n",
        "plt.scatter(new[0], new[1], marker=\"^\")\n",
        "plt.xlabel('length')\n",
        "plt.ylabel('weight')\n",
        "plt.show()"
      ],
      "execution_count": null,
      "outputs": [
        {
          "output_type": "display_data",
          "data": {
            "image/png": "[encoded data removed]",
            "text/plain": [
              "<Figure size 432x288 with 1 Axes>"
            ]
          },
          "metadata": {
            "tags": [],
            "needs_background": "light"
          }
        }
      ]
    },
    {
      "cell_type": "code",
      "metadata": {
        "colab": {
          "base_uri": "https://localhost:8080/"
        },
        "id": "0PMOdTZcHH_g",
        "outputId": "7cfe5750-ec04-434b-f9f3-b4af69041251"
      },
      "source": [
        "# 모델 다시 훈련하기\n",
        "kn.fit(train_scaled, train_target)"
      ],
      "execution_count": null,
      "outputs": [
        {
          "output_type": "execute_result",
          "data": {
            "text/plain": [
              "KNeighborsClassifier(algorithm='auto', leaf_size=30, metric='minkowski',\n",
              "                     metric_params=None, n_jobs=None, n_neighbors=5, p=2,\n",
              "                     weights='uniform')"
            ]
          },
          "metadata": {
            "tags": []
          },
          "execution_count": 49
        }
      ]
    },
    {
      "cell_type": "code",
      "metadata": {
        "id": "-AUfYHGSHRHW"
      },
      "source": [
        "# 테스트 데이터 표준점수화 하기\n",
        "test_scaled= (test_input - mean) / std"
      ],
      "execution_count": null,
      "outputs": []
    },
    {
      "cell_type": "code",
      "metadata": {
        "colab": {
          "base_uri": "https://localhost:8080/"
        },
        "id": "ErXRASLjHwee",
        "outputId": "bf7468ad-85b5-4522-c67f-80e008cd8b4d"
      },
      "source": [
        "# 모델 평가 및 에측하기\n",
        "kn.score(test_scaled, test_target)\n",
        "print(kn.predict([new]))"
      ],
      "execution_count": null,
      "outputs": [
        {
          "output_type": "stream",
          "text": [
            "[1.]\n"
          ],
          "name": "stdout"
        }
      ]
    },
    {
      "cell_type": "code",
      "metadata": {
        "colab": {
          "base_uri": "https://localhost:8080/",
          "height": 279
        },
        "id": "2asABbKcH1Q2",
        "outputId": "e5ff9a06-32f8-4d01-eb0d-7084c7a408ab"
      },
      "source": [
        "# 산점도로 이웃 확인하기\n",
        "distances, indexes = kn.kneighbors([new])\n",
        "plt.scatter(train_scaled[:,0],train_scaled[:,1])\n",
        "plt.scatter(new[0], new[1], marker=\"^\")\n",
        "plt.scatter(train_scaled[indexes,0], train_scaled[indexes,1], marker='D')\n",
        "plt.xlabel('length')\n",
        "plt.ylabel('weight')\n",
        "plt.show()"
      ],
      "execution_count": null,
      "outputs": [
        {
          "output_type": "display_data",
          "data": {
            "image/png": "[encoded data removed]",
            "text/plain": [
              "<Figure size 432x288 with 1 Axes>"
            ]
          },
          "metadata": {
            "tags": [],
            "needs_background": "light"
          }
        }
      ]
    },
    {
      "cell_type": "markdown",
      "metadata": {
        "id": "xx__M0IxImw3"
      },
      "source": [
        "# 210621_선형회귀"
      ]
    },
    {
      "cell_type": "code",
      "metadata": {
        "id": "hcTR5VRj1H6i"
      },
      "source": [
        "# 농어 데이터\n",
        "import numpy as np\n",
        "perch_length = np.array([8.4, 13.7, 15.0, 16.2, 17.4, 18.0, 18.7, 19.0, 19.6, 20.0, 21.0,\n",
        "       21.0, 21.0, 21.3, 22.0, 22.0, 22.0, 22.0, 22.0, 22.5, 22.5, 22.7,\n",
        "       23.0, 23.5, 24.0, 24.0, 24.6, 25.0, 25.6, 26.5, 27.3, 27.5, 27.5,\n",
        "       27.5, 28.0, 28.7, 30.0, 32.8, 34.5, 35.0, 36.5, 36.0, 37.0, 37.0,\n",
        "       39.0, 39.0, 39.0, 40.0, 40.0, 40.0, 40.0, 42.0, 43.0, 43.0, 43.5,\n",
        "       44.0])\n",
        "perch_weight = np.array([5.9, 32.0, 40.0, 51.5, 70.0, 100.0, 78.0, 80.0, 85.0, 85.0, 110.0,\n",
        "       115.0, 125.0, 130.0, 120.0, 120.0, 130.0, 135.0, 110.0, 130.0,\n",
        "       150.0, 145.0, 150.0, 170.0, 225.0, 145.0, 188.0, 180.0, 197.0,\n",
        "       218.0, 300.0, 260.0, 265.0, 250.0, 250.0, 300.0, 320.0, 514.0,\n",
        "       556.0, 840.0, 685.0, 700.0, 700.0, 690.0, 900.0, 650.0, 820.0,\n",
        "       850.0, 900.0, 1015.0, 820.0, 1100.0, 1000.0, 1100.0, 1000.0,\n",
        "       1000.0])"
      ],
      "execution_count": 2,
      "outputs": []
    },
    {
      "cell_type": "code",
      "metadata": {
        "id": "k2_OP_DO1QVG"
      },
      "source": [
        ""
      ],
      "execution_count": null,
      "outputs": []
    }
  ]
}