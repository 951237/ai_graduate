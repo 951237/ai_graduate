{
  "nbformat": 4,
  "nbformat_minor": 0,
  "metadata": {
    "colab": {
      "name": "210615 대학원 2학기 마켓과 머신러닝 생선분류문제.ipynb",
      "provenance": [],
      "authorship_tag": "ABX9TyNz26LaGrd3W6nqQgKD2p/Q",
      "include_colab_link": true
    },
    "kernelspec": {
      "name": "python3",
      "display_name": "Python 3"
    },
    "language_info": {
      "name": "python"
    }
  },
  "cells": [
    {
      "cell_type": "markdown",
      "metadata": {
        "id": "view-in-github",
        "colab_type": "text"
      },
      "source": [
        "<a href=\"https://colab.research.google.com/github/951237/ai_graduate/blob/master/210615_%EB%8C%80%ED%95%99%EC%9B%90_2%ED%95%99%EA%B8%B0_%EB%A7%88%EC%BC%93%EA%B3%BC_%EB%A8%B8%EC%8B%A0%EB%9F%AC%EB%8B%9D_%EC%83%9D%EC%84%A0%EB%B6%84%EB%A5%98%EB%AC%B8%EC%A0%9C.ipynb\" target=\"_parent\"><img src=\"https://colab.research.google.com/assets/colab-badge.svg\" alt=\"Open In Colab\"/></a>"
      ]
    },
    {
      "cell_type": "markdown",
      "metadata": {
        "id": "p5b1q9fo02dE"
      },
      "source": [
        "# 210615 마켓과 머신러닝"
      ]
    },
    {
      "cell_type": "code",
      "metadata": {
        "id": "EOH7eXYy1lWG"
      },
      "source": [
        "# 도미의 길이\n",
        "bream_length = [25.4, 26.3, 26.5, 29.0, 29.0, 29.7, 29.7, 30.0, 30.0, 30.7, 31.0, 31.0, \n",
        "                31.5, 32.0, 32.0, 32.0, 33.0, 33.0, 33.5, 33.5, 34.0, 34.0, 34.5, 35.0, \n",
        "                35.0, 35.0, 35.0, 36.0, 36.0, 37.0, 38.5, 38.5, 39.5, 41.0, 41.0]\n",
        "bream_weight = [242.0, 290.0, 340.0, 363.0, 430.0, 450.0, 500.0, 390.0, 450.0, 500.0, 475.0, 500.0, \n",
        "                500.0, 340.0, 600.0, 600.0, 700.0, 700.0, 610.0, 650.0, 575.0, 685.0, 620.0, 680.0, \n",
        "                700.0, 725.0, 720.0, 714.0, 850.0, 1000.0, 920.0, 955.0, 925.0, 975.0, 950.0]"
      ],
      "execution_count": null,
      "outputs": []
    },
    {
      "cell_type": "code",
      "metadata": {
        "colab": {
          "base_uri": "https://localhost:8080/",
          "height": 279
        },
        "id": "PlyGP_4T1uGl",
        "outputId": "4fe475a8-ad0e-427c-cb9a-3cc06bc80a40"
      },
      "source": [
        "# 산점도 그래프로 나타내기\n",
        "import matplotlib.pyplot as plt\n",
        "\n",
        "plt.scatter(bream_length, bream_weight)\n",
        "plt.xlabel(\"length\")\n",
        "plt.ylabel(\"weight\")\n",
        "plt.show()"
      ],
      "execution_count": null,
      "outputs": [
        {
          "output_type": "display_data",
          "data": {
            "image/png": "[encoded data removed]",
            "text/plain": [
              "<Figure size 432x288 with 1 Axes>"
            ]
          },
          "metadata": {
            "tags": [],
            "needs_background": "light"
          }
        }
      ]
    },
    {
      "cell_type": "code",
      "metadata": {
        "id": "5fvvpAsx16Ec"
      },
      "source": [
        "# 빙어의 길이\n",
        "smelt_length = [9.8, 10.5, 10.6, 11.0, 11.2, 11.3, 11.8, 11.8, 12.0, 12.2, 12.4, 13.0, 14.3, 15.0]\n",
        "smelt_weight = [6.7, 7.5, 7.0, 9.7, 9.8, 8.7, 10.0, 9.9, 9.8, 12.2, 13.4, 12.2, 19.7, 19.9]\n"
      ],
      "execution_count": null,
      "outputs": []
    },
    {
      "cell_type": "code",
      "metadata": {
        "colab": {
          "base_uri": "https://localhost:8080/",
          "height": 279
        },
        "id": "SYFGf2iM2MN9",
        "outputId": "00e9cbad-64da-4fde-9745-e5aebbfd137b"
      },
      "source": [
        "# 스래프를 2개를 한꺼번에 그리기\n",
        "plt.scatter(bream_length, bream_weight)\n",
        "plt.scatter(smelt_length, smelt_weight)\n",
        "plt.xlabel(\"length\")\n",
        "plt.ylabel('weight')\n",
        "plt.show()"
      ],
      "execution_count": null,
      "outputs": [
        {
          "output_type": "display_data",
          "data": {
            "image/png": "[encoded data removed]",
            "text/plain": [
              "<Figure size 432x288 with 1 Axes>"
            ]
          },
          "metadata": {
            "tags": [],
            "needs_background": "light"
          }
        }
      ]
    },
    {
      "cell_type": "code",
      "metadata": {
        "id": "b5sVJ8wA2RAl"
      },
      "source": [
        "# 결과분석\n",
        "# 빙어는 무게가 길이에 영향을 덜 받음."
      ],
      "execution_count": null,
      "outputs": []
    },
    {
      "cell_type": "code",
      "metadata": {
        "id": "TcF7i06A2n4V"
      },
      "source": [
        "# 도미와 빙어 데이터 합치기\n",
        "length = bream_length + smelt_length\n",
        "weight = bream_weight + smelt_weight"
      ],
      "execution_count": null,
      "outputs": []
    },
    {
      "cell_type": "code",
      "metadata": {
        "colab": {
          "base_uri": "https://localhost:8080/"
        },
        "id": "rTsYGg7J25al",
        "outputId": "fa0d871d-399d-447a-9b4a-f7ac9e53e8f6"
      },
      "source": [
        "# 합친 데이터를 2차원 리스트로 만들기\n",
        "# 한줄로 나타내면\n",
        "# fish_data = [[l,w] for l,w in zip(lengh, weight)]\n",
        "# 가독성있게 여러줄로 나타내기 !!!\n",
        "fish_data = []\n",
        "for l, w in zip(length, weight):\n",
        "    fish_data.append([l,w])\n",
        "print(fish_data)"
      ],
      "execution_count": null,
      "outputs": [
        {
          "output_type": "stream",
          "text": [
            "[[25.4, 242.0], [26.3, 290.0], [26.5, 340.0], [29.0, 363.0], [29.0, 430.0], [29.7, 450.0], [29.7, 500.0], [30.0, 390.0], [30.0, 450.0], [30.7, 500.0], [31.0, 475.0], [31.0, 500.0], [31.5, 500.0], [32.0, 340.0], [32.0, 600.0], [32.0, 600.0], [33.0, 700.0], [33.0, 700.0], [33.5, 610.0], [33.5, 650.0], [34.0, 575.0], [34.0, 685.0], [34.5, 620.0], [35.0, 680.0], [35.0, 700.0], [35.0, 725.0], [35.0, 720.0], [36.0, 714.0], [36.0, 850.0], [37.0, 1000.0], [38.5, 920.0], [38.5, 955.0], [39.5, 925.0], [41.0, 975.0], [41.0, 950.0], [9.8, 6.7], [10.5, 7.5], [10.6, 7.0], [11.0, 9.7], [11.2, 9.8], [11.3, 8.7], [11.8, 10.0], [11.8, 9.9], [12.0, 9.8], [12.2, 12.2], [12.4, 13.4], [13.0, 12.2], [14.3, 19.7], [15.0, 19.9]]\n"
          ],
          "name": "stdout"
        }
      ]
    },
    {
      "cell_type": "code",
      "metadata": {
        "colab": {
          "base_uri": "https://localhost:8080/"
        },
        "id": "zhnD6PzR3h7V",
        "outputId": "192b318e-ba5a-4e89-b51f-3ee3a455e444"
      },
      "source": [
        "len(bream_length)"
      ],
      "execution_count": null,
      "outputs": [
        {
          "output_type": "execute_result",
          "data": {
            "text/plain": [
              "35"
            ]
          },
          "metadata": {
            "tags": []
          },
          "execution_count": 21
        }
      ]
    },
    {
      "cell_type": "code",
      "metadata": {
        "id": "pXabaQVc4k-K"
      },
      "source": [
        "# 정답데이터 준비하기 : 도미 = 1, 빙어 = 0\n",
        "fish_target = [1] * 35 + [0] * 14"
      ],
      "execution_count": null,
      "outputs": []
    },
    {
      "cell_type": "code",
      "metadata": {
        "id": "Ld3dtwk642Rk"
      },
      "source": [
        "# k-최근접 이웃 준비하기\n",
        "from sklearn.neighbors import KNeighborsClassifier\n",
        "kn = KNeighborsClassifier()"
      ],
      "execution_count": null,
      "outputs": []
    },
    {
      "cell_type": "code",
      "metadata": {
        "colab": {
          "base_uri": "https://localhost:8080/"
        },
        "id": "hVkLPZD45E_8",
        "outputId": "49264adb-907d-42b3-f122-fe98c3d25334"
      },
      "source": [
        "# 훈련 및 평가하기\n",
        "kn.fit(fish_data, fish_target)\n",
        "kn.score(fish_data, fish_target)"
      ],
      "execution_count": null,
      "outputs": [
        {
          "output_type": "execute_result",
          "data": {
            "text/plain": [
              "1.0"
            ]
          },
          "metadata": {
            "tags": []
          },
          "execution_count": 26
        }
      ]
    },
    {
      "cell_type": "code",
      "metadata": {
        "colab": {
          "base_uri": "https://localhost:8080/"
        },
        "id": "Q-BAPEsZ5je6",
        "outputId": "ca5661ff-af3d-41d0-faf6-1da8ef8e1083"
      },
      "source": [
        "kn49 = KNeighborsClassifier(n_neighbors=49)\n",
        "kn49.fit(fish_data, fish_target)\n",
        "kn49.score(fish_data, fish_target)"
      ],
      "execution_count": null,
      "outputs": [
        {
          "output_type": "execute_result",
          "data": {
            "text/plain": [
              "0.7142857142857143"
            ]
          },
          "metadata": {
            "tags": []
          },
          "execution_count": 29
        }
      ]
    },
    {
      "cell_type": "markdown",
      "metadata": {
        "id": "3Y2UcMk_58Sa"
      },
      "source": [
        "# 210616_넘파이를 이용한 데이터 준비하기\n",
        "\n"
      ]
    },
    {
      "cell_type": "code",
      "metadata": {
        "id": "3aM4EKxwFpKc"
      },
      "source": [
        "import numpy as np"
      ],
      "execution_count": 1,
      "outputs": []
    },
    {
      "cell_type": "code",
      "metadata": {
        "id": "PEtV0d-QGDFW"
      },
      "source": [
        "# 생선데이터\n",
        "# 도미의 길이\n",
        "\n",
        "fish_length = [25.4, 26.3, 26.5, 29.0, 29.0, 29.7, 29.7, 30.0, 30.0, 30.7, 31.0, 31.0, \n",
        "                31.5, 32.0, 32.0, 32.0, 33.0, 33.0, 33.5, 33.5, 34.0, 34.0, 34.5, 35.0, \n",
        "                35.0, 35.0, 35.0, 36.0, 36.0, 37.0, 38.5, 38.5, 39.5, 41.0, 41.0, 9.8, \n",
        "                10.5, 10.6, 11.0, 11.2, 11.3, 11.8, 11.8, 12.0, 12.2, 12.4, 13.0, 14.3, 15.0]\n",
        "fish_weight = [242.0, 290.0, 340.0, 363.0, 430.0, 450.0, 500.0, 390.0, 450.0, 500.0, 475.0, 500.0, \n",
        "                500.0, 340.0, 600.0, 600.0, 700.0, 700.0, 610.0, 650.0, 575.0, 685.0, 620.0, 680.0, \n",
        "                700.0, 725.0, 720.0, 714.0, 850.0, 1000.0, 920.0, 955.0, 925.0, 975.0, 950.0, 6.7, \n",
        "                7.5, 7.0, 9.7, 9.8, 8.7, 10.0, 9.9, 9.8, 12.2, 13.4, 12.2, 19.7, 19.9]"
      ],
      "execution_count": 6,
      "outputs": []
    },
    {
      "cell_type": "code",
      "metadata": {
        "id": "rf6FMukfGiV_"
      },
      "source": [
        "# 넘파이를 이용해서 리스트를 합쳐서 튜플로 전달\n",
        "# np.column_stack(([1,2,3],[4,5,6]))\n",
        "fish_data = np.column_stack((fish_length, fish_weight))\n",
        "fish_target = np.concatenate((np.ones(35), np.zeros(14))) # 도미 35개, 빙어 14개의 데이터 모음"
      ],
      "execution_count": 10,
      "outputs": []
    },
    {
      "cell_type": "markdown",
      "metadata": {
        "id": "0UxPS6JgGoo4"
      },
      "source": [
        "# 210617 훈련세트와 테스트세트 준비하기"
      ]
    },
    {
      "cell_type": "code",
      "metadata": {
        "id": "-U5xVYT5G0lG"
      },
      "source": [
        "from sklearn.model_selection import train_test_split"
      ],
      "execution_count": 11,
      "outputs": []
    },
    {
      "cell_type": "code",
      "metadata": {
        "id": "-sTNL6CXMk0O"
      },
      "source": [
        "# 훈련세트와 테스트 세트 만들기 \n",
        "# strafify : 원데이터의 클래스 비율에 비례하여 데이터 분할 가능\n",
        "train_input, test_input, train_target, test_target = train_test_split(fish_data, fish_target, stratify=fish_target,random_state = 42)"
      ],
      "execution_count": 18,
      "outputs": []
    },
    {
      "cell_type": "code",
      "metadata": {
        "colab": {
          "base_uri": "https://localhost:8080/"
        },
        "id": "7DOdbeQINw2x",
        "outputId": "e1afa84b-0d04-4603-f057-efb131b1e7c8"
      },
      "source": [
        "# K-최근접 이웃으로 훈련\n",
        "from sklearn.neighbors import KNeighborsClassifier\n",
        "kn = KNeighborsClassifier()\n",
        "kn.fit(train_input, train_target)\n",
        "kn.score(test_input, test_target)"
      ],
      "execution_count": 20,
      "outputs": [
        {
          "output_type": "execute_result",
          "data": {
            "text/plain": [
              "1.0"
            ]
          },
          "metadata": {
            "tags": []
          },
          "execution_count": 20
        }
      ]
    },
    {
      "cell_type": "code",
      "metadata": {
        "colab": {
          "base_uri": "https://localhost:8080/"
        },
        "id": "YXAwzPetO9NB",
        "outputId": "5d31aaf7-0f6b-4f29-c034-fd9624589ca6"
      },
      "source": [
        "# 새로운 데이터 넣고 결과 예측하기\n",
        "print(kn.predict([[25,150]]))"
      ],
      "execution_count": 21,
      "outputs": [
        {
          "output_type": "stream",
          "text": [
            "[0.]\n"
          ],
          "name": "stdout"
        }
      ]
    },
    {
      "cell_type": "code",
      "metadata": {
        "colab": {
          "base_uri": "https://localhost:8080/",
          "height": 279
        },
        "id": "K7Mqq7zHPFho",
        "outputId": "f87e1482-fb6b-42a3-a300-93649db04d3a"
      },
      "source": [
        "# 산점도 확인해보기\n",
        "import matplotlib.pyplot as plt\n",
        "plt.scatter(train_input[:,0], train_input[:,1])\n",
        "plt.scatter(25,150, marker=\"^\") # 삼각형으로 표시\n",
        "plt.xlabel('length')\n",
        "plt.ylabel(\"weight\")\n",
        "plt.show()"
      ],
      "execution_count": 24,
      "outputs": [
        {
          "output_type": "display_data",
          "data": {
            "image/png": "[encoded data removed]",
            "text/plain": [
              "<Figure size 432x288 with 1 Axes>"
            ]
          },
          "metadata": {
            "tags": [],
            "needs_background": "light"
          }
        }
      ]
    },
    {
      "cell_type": "code",
      "metadata": {
        "colab": {
          "base_uri": "https://localhost:8080/"
        },
        "id": "iSLu-dfTPlZm",
        "outputId": "5b4fd2f5-47b4-4528-c141-e7512decc853"
      },
      "source": [
        "# kneighbors()메서드로 거리와 인덱스 구하기\n",
        "distances, indexes = kn.kneighbors([[25, 150]])\n",
        "distances"
      ],
      "execution_count": 28,
      "outputs": [
        {
          "output_type": "execute_result",
          "data": {
            "text/plain": [
              "array([[ 92.00086956, 130.48375378, 130.73859415, 138.32150953,\n",
              "        138.39320793]])"
            ]
          },
          "metadata": {
            "tags": []
          },
          "execution_count": 28
        }
      ]
    },
    {
      "cell_type": "code",
      "metadata": {
        "colab": {
          "base_uri": "https://localhost:8080/"
        },
        "id": "BiwJOvyUP8bB",
        "outputId": "9b583bce-27ef-4bf8-e5dc-83a52cc00550"
      },
      "source": [
        "indexes"
      ],
      "execution_count": 29,
      "outputs": [
        {
          "output_type": "execute_result",
          "data": {
            "text/plain": [
              "array([[21, 33, 19, 30,  1]])"
            ]
          },
          "metadata": {
            "tags": []
          },
          "execution_count": 29
        }
      ]
    },
    {
      "cell_type": "code",
      "metadata": {
        "colab": {
          "base_uri": "https://localhost:8080/",
          "height": 279
        },
        "id": "dlYTsu5ZQJtd",
        "outputId": "9c4bd262-afd0-4966-93b4-d08cff957242"
      },
      "source": [
        "# 산점도 확인\n",
        "plt.scatter(train_input[:,0], train_input[:,1])\n",
        "plt.scatter(25,150,marker=\"^\")\n",
        "plt.scatter(train_input[indexes, 0], train_input[indexes,1], marker=\"D\") # 마름모 표시\n",
        "plt.xlabel(\"length\")\n",
        "plt.ylabel(\"weight\")\n",
        "plt.show()"
      ],
      "execution_count": 30,
      "outputs": [
        {
          "output_type": "display_data",
          "data": {
            "image/png": "[encoded data removed]",
            "text/plain": [
              "<Figure size 432x288 with 1 Axes>"
            ]
          },
          "metadata": {
            "tags": [],
            "needs_background": "light"
          }
        }
      ]
    },
    {
      "cell_type": "code",
      "metadata": {
        "id": "Fhb6CQEWRFqn"
      },
      "source": [
        ""
      ],
      "execution_count": null,
      "outputs": []
    }
  ]
}