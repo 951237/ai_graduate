{
  "nbformat": 4,
  "nbformat_minor": 0,
  "metadata": {
    "colab": {
      "name": "210706_머신러닝 라쏘회귀.ipynb",
      "provenance": [],
      "authorship_tag": "ABX9TyPFPOCrbZA35TStQnEix9Kt",
      "include_colab_link": true
    },
    "kernelspec": {
      "name": "python3",
      "display_name": "Python 3"
    },
    "language_info": {
      "name": "python"
    }
  },
  "cells": [
    {
      "cell_type": "markdown",
      "metadata": {
        "id": "view-in-github",
        "colab_type": "text"
      },
      "source": [
        "<a href=\"https://colab.research.google.com/github/951237/ai_graduate/blob/master/210706_%EB%A8%B8%EC%8B%A0%EB%9F%AC%EB%8B%9D_%EB%9D%BC%EC%8F%98%ED%9A%8C%EA%B7%80.ipynb\" target=\"_parent\"><img src=\"https://colab.research.google.com/assets/colab-badge.svg\" alt=\"Open In Colab\"/></a>"
      ]
    },
    {
      "cell_type": "code",
      "metadata": {
        "colab": {
          "base_uri": "https://localhost:8080/"
        },
        "id": "qad0_pmq71uV",
        "outputId": "ad183597-0b50-4a65-a35f-dd23a712dc57"
      },
      "source": [
        "!pip install mglearn"
      ],
      "execution_count": 2,
      "outputs": [
        {
          "output_type": "stream",
          "text": [
            "Collecting mglearn\n",
            "\u001b[?25l  Downloading https://files.pythonhosted.org/packages/65/38/8aced26fce0b2ae82c3c87cd3b6105f38ca6d9d51704ecc44aa54473e6b9/mglearn-0.1.9.tar.gz (540kB)\n",
            "\r\u001b[K     |▋                               | 10kB 15.4MB/s eta 0:00:01\r\u001b[K     |█▏                              | 20kB 15.1MB/s eta 0:00:01\r\u001b[K     |█▉                              | 30kB 10.4MB/s eta 0:00:01\r\u001b[K     |██▍                             | 40kB 8.6MB/s eta 0:00:01\r\u001b[K     |███                             | 51kB 4.8MB/s eta 0:00:01\r\u001b[K     |███▋                            | 61kB 5.1MB/s eta 0:00:01\r\u001b[K     |████▎                           | 71kB 5.5MB/s eta 0:00:01\r\u001b[K     |████▉                           | 81kB 5.9MB/s eta 0:00:01\r\u001b[K     |█████▌                          | 92kB 4.3MB/s eta 0:00:01\r\u001b[K     |██████                          | 102kB 4.8MB/s eta 0:00:01\r\u001b[K     |██████▊                         | 112kB 4.8MB/s eta 0:00:01\r\u001b[K     |███████▎                        | 122kB 4.8MB/s eta 0:00:01\r\u001b[K     |███████▉                        | 133kB 4.8MB/s eta 0:00:01\r\u001b[K     |████████▌                       | 143kB 4.8MB/s eta 0:00:01\r\u001b[K     |█████████                       | 153kB 4.8MB/s eta 0:00:01\r\u001b[K     |█████████▊                      | 163kB 4.8MB/s eta 0:00:01\r\u001b[K     |██████████▎                     | 174kB 4.8MB/s eta 0:00:01\r\u001b[K     |███████████                     | 184kB 4.8MB/s eta 0:00:01\r\u001b[K     |███████████▌                    | 194kB 4.8MB/s eta 0:00:01\r\u001b[K     |████████████▏                   | 204kB 4.8MB/s eta 0:00:01\r\u001b[K     |████████████▊                   | 215kB 4.8MB/s eta 0:00:01\r\u001b[K     |█████████████▍                  | 225kB 4.8MB/s eta 0:00:01\r\u001b[K     |██████████████                  | 235kB 4.8MB/s eta 0:00:01\r\u001b[K     |██████████████▋                 | 245kB 4.8MB/s eta 0:00:01\r\u001b[K     |███████████████▏                | 256kB 4.8MB/s eta 0:00:01\r\u001b[K     |███████████████▊                | 266kB 4.8MB/s eta 0:00:01\r\u001b[K     |████████████████▍               | 276kB 4.8MB/s eta 0:00:01\r\u001b[K     |█████████████████               | 286kB 4.8MB/s eta 0:00:01\r\u001b[K     |█████████████████▋              | 296kB 4.8MB/s eta 0:00:01\r\u001b[K     |██████████████████▏             | 307kB 4.8MB/s eta 0:00:01\r\u001b[K     |██████████████████▉             | 317kB 4.8MB/s eta 0:00:01\r\u001b[K     |███████████████████▍            | 327kB 4.8MB/s eta 0:00:01\r\u001b[K     |████████████████████            | 337kB 4.8MB/s eta 0:00:01\r\u001b[K     |████████████████████▋           | 348kB 4.8MB/s eta 0:00:01\r\u001b[K     |█████████████████████▎          | 358kB 4.8MB/s eta 0:00:01\r\u001b[K     |█████████████████████▉          | 368kB 4.8MB/s eta 0:00:01\r\u001b[K     |██████████████████████▌         | 378kB 4.8MB/s eta 0:00:01\r\u001b[K     |███████████████████████         | 389kB 4.8MB/s eta 0:00:01\r\u001b[K     |███████████████████████▋        | 399kB 4.8MB/s eta 0:00:01\r\u001b[K     |████████████████████████▎       | 409kB 4.8MB/s eta 0:00:01\r\u001b[K     |████████████████████████▉       | 419kB 4.8MB/s eta 0:00:01\r\u001b[K     |█████████████████████████▌      | 430kB 4.8MB/s eta 0:00:01\r\u001b[K     |██████████████████████████      | 440kB 4.8MB/s eta 0:00:01\r\u001b[K     |██████████████████████████▊     | 450kB 4.8MB/s eta 0:00:01\r\u001b[K     |███████████████████████████▎    | 460kB 4.8MB/s eta 0:00:01\r\u001b[K     |████████████████████████████    | 471kB 4.8MB/s eta 0:00:01\r\u001b[K     |████████████████████████████▌   | 481kB 4.8MB/s eta 0:00:01\r\u001b[K     |█████████████████████████████▏  | 491kB 4.8MB/s eta 0:00:01\r\u001b[K     |█████████████████████████████▊  | 501kB 4.8MB/s eta 0:00:01\r\u001b[K     |██████████████████████████████▍ | 512kB 4.8MB/s eta 0:00:01\r\u001b[K     |███████████████████████████████ | 522kB 4.8MB/s eta 0:00:01\r\u001b[K     |███████████████████████████████▌| 532kB 4.8MB/s eta 0:00:01\r\u001b[K     |████████████████████████████████| 542kB 4.8MB/s \n",
            "\u001b[?25hRequirement already satisfied: numpy in /usr/local/lib/python3.7/dist-packages (from mglearn) (1.19.5)\n",
            "Requirement already satisfied: matplotlib in /usr/local/lib/python3.7/dist-packages (from mglearn) (3.2.2)\n",
            "Requirement already satisfied: scikit-learn in /usr/local/lib/python3.7/dist-packages (from mglearn) (0.22.2.post1)\n",
            "Requirement already satisfied: pandas in /usr/local/lib/python3.7/dist-packages (from mglearn) (1.1.5)\n",
            "Requirement already satisfied: pillow in /usr/local/lib/python3.7/dist-packages (from mglearn) (7.1.2)\n",
            "Requirement already satisfied: cycler in /usr/local/lib/python3.7/dist-packages (from mglearn) (0.10.0)\n",
            "Requirement already satisfied: imageio in /usr/local/lib/python3.7/dist-packages (from mglearn) (2.4.1)\n",
            "Requirement already satisfied: joblib in /usr/local/lib/python3.7/dist-packages (from mglearn) (1.0.1)\n",
            "Requirement already satisfied: kiwisolver>=1.0.1 in /usr/local/lib/python3.7/dist-packages (from matplotlib->mglearn) (1.3.1)\n",
            "Requirement already satisfied: python-dateutil>=2.1 in /usr/local/lib/python3.7/dist-packages (from matplotlib->mglearn) (2.8.1)\n",
            "Requirement already satisfied: pyparsing!=2.0.4,!=2.1.2,!=2.1.6,>=2.0.1 in /usr/local/lib/python3.7/dist-packages (from matplotlib->mglearn) (2.4.7)\n",
            "Requirement already satisfied: scipy>=0.17.0 in /usr/local/lib/python3.7/dist-packages (from scikit-learn->mglearn) (1.4.1)\n",
            "Requirement already satisfied: pytz>=2017.2 in /usr/local/lib/python3.7/dist-packages (from pandas->mglearn) (2018.9)\n",
            "Requirement already satisfied: six in /usr/local/lib/python3.7/dist-packages (from cycler->mglearn) (1.15.0)\n",
            "Building wheels for collected packages: mglearn\n",
            "  Building wheel for mglearn (setup.py) ... \u001b[?25l\u001b[?25hdone\n",
            "  Created wheel for mglearn: filename=mglearn-0.1.9-py2.py3-none-any.whl size=582638 sha256=d00386269bde698f9e62ac14c7677e2023b255c042f1e75b21f748aae6c42f98\n",
            "  Stored in directory: /root/.cache/pip/wheels/eb/a6/ea/a6a3716233fa62fc561259b5cb1e28f79e9ff3592c0adac5f0\n",
            "Successfully built mglearn\n",
            "Installing collected packages: mglearn\n",
            "Successfully installed mglearn-0.1.9\n"
          ],
          "name": "stdout"
        }
      ]
    },
    {
      "cell_type": "code",
      "metadata": {
        "colab": {
          "base_uri": "https://localhost:8080/"
        },
        "id": "KvtCOdsm7wh6",
        "outputId": "4c6f9a42-94e9-43d0-b17e-07a658e64e8f"
      },
      "source": [
        "from sklearn.linear_model import Lasso\n",
        "from sklearn.model_selection import train_test_split\n",
        "import mglearn\n",
        "import numpy as np\n",
        "\n",
        "\n",
        "X, y = mglearn.datasets.load_extended_boston()\n",
        "\n",
        "X_train, X_test, y_train, y_test = train_test_split(X, y, random_state=0)\n",
        "\n",
        "lasso = Lasso().fit(X_train, y_train)\n",
        "\n",
        "print(f\"훈련세트 점수 : {lasso.score(X_train, y_train)}\")\n",
        "print(f\"테스트세트 점수 : {lasso.score(X_test, y_test)}\")\n",
        "print(f\"사용한 특성 수 : {np.sum(lasso.coef_ != 0)}\")"
      ],
      "execution_count": 5,
      "outputs": [
        {
          "output_type": "stream",
          "text": [
            "훈련세트 점수 : 0.29323768991114607\n",
            "테스트세트 점수 : 0.20937503255272294\n",
            "사용한 특성 수 : 4\n"
          ],
          "name": "stdout"
        }
      ]
    },
    {
      "cell_type": "code",
      "metadata": {
        "colab": {
          "base_uri": "https://localhost:8080/"
        },
        "id": "6FU-yVdl7yCL",
        "outputId": "4b4e74dd-9ecb-4af7-84a2-522a5b71d671"
      },
      "source": [
        "# 과소적합 줄이기 alpha = 0.01\n",
        "lasso001 = Lasso(alpha = 0.01, max_iter = 100000).fit(X_train, y_train)\n",
        "\n",
        "# 성능테스트 \n",
        "print(f\"훈련세트 점수 : {lasso001.score(X_train, y_train)}\")\n",
        "print(f\"테스트세트 점수 : {lasso001.score(X_test, y_test)}\")\n",
        "print(f\"사용한 특성 수 : {np.sum(lasso001.coef_ != 0)}\")\n"
      ],
      "execution_count": 6,
      "outputs": [
        {
          "output_type": "stream",
          "text": [
            "훈련세트 점수 : 0.8962226511086497\n",
            "테스트세트 점수 : 0.7656571174549982\n",
            "사용한 특성 수 : 33\n"
          ],
          "name": "stdout"
        }
      ]
    },
    {
      "cell_type": "code",
      "metadata": {
        "id": "azkqpfB5BihE"
      },
      "source": [
        ""
      ],
      "execution_count": null,
      "outputs": []
    }
  ]
}