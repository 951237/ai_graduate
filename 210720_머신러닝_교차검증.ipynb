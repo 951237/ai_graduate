{
  "nbformat": 4,
  "nbformat_minor": 0,
  "metadata": {
    "colab": {
      "name": "210720_머신러닝 교차검증.ipynb",
      "provenance": [],
      "authorship_tag": "ABX9TyN4WGifVz7CHlfX0g4phWZa",
      "include_colab_link": true
    },
    "kernelspec": {
      "name": "python3",
      "display_name": "Python 3"
    },
    "language_info": {
      "name": "python"
    }
  },
  "cells": [
    {
      "cell_type": "markdown",
      "metadata": {
        "id": "view-in-github",
        "colab_type": "text"
      },
      "source": [
        "<a href=\"https://colab.research.google.com/github/951237/ai_graduate/blob/master/210720_%EB%A8%B8%EC%8B%A0%EB%9F%AC%EB%8B%9D_%EA%B5%90%EC%B0%A8%EA%B2%80%EC%A6%9D.ipynb\" target=\"_parent\"><img src=\"https://colab.research.google.com/assets/colab-badge.svg\" alt=\"Open In Colab\"/></a>"
      ]
    },
    {
      "cell_type": "markdown",
      "metadata": {
        "id": "KHWZrX43bQOB"
      },
      "source": [
        "## 교차 검증 "
      ]
    },
    {
      "cell_type": "code",
      "metadata": {
        "colab": {
          "base_uri": "https://localhost:8080/"
        },
        "id": "i3H8NLn43h8J",
        "outputId": "23cf1132-93d6-42b1-cbef-13cdd34209f8"
      },
      "source": [
        "from sklearn.model_selection import GridSearchCV\n",
        "from sklearn.tree import DecisionTreeClassifier\n",
        "from sklearn.datasets import load_wine\n",
        "from sklearn.model_selection import train_test_split\n",
        "import numpy as np\n",
        "\n",
        "\n",
        "wine = load_wine()\n",
        "\n",
        "X = wine.data\n",
        "y = wine.target\n",
        "\n",
        "train_input, test_input, train_target, test_input = train_test_split(X, y, test_size = 0.33, random_state=42)\n",
        "\n",
        "param = {\n",
        "    'min_impurity_decrease' : [0.0001, 0.0003, 0.0004, 0.0005]\n",
        "}\n",
        "\n",
        "gs = GridSearchCV(DecisionTreeClassifier(random_state = 42), param, n_jobs= -1)\n",
        "gs.fit(train_input, train_target)\n",
        "dt = gs.best_estimator_\n",
        "print(dt.score(train_input, train_target))\n",
        "\n",
        "print(gs.best_params_)  # 최적 매개변수 출력\n",
        "\n",
        "print(gs.cv_results_['mean_test_score'])  # 교차검증 점수 출력\n",
        "\n",
        "best_index = np.argmax(gs.cv_results_['mean_test_score'])\n",
        "\n",
        "print(gs.cv_results_['params'][best_index])"
      ],
      "execution_count": 17,
      "outputs": [
        {
          "output_type": "stream",
          "text": [
            "1.0\n",
            "{'min_impurity_decrease': 0.0001}\n",
            "[0.9326087 0.9326087 0.9326087 0.9326087]\n",
            "{'min_impurity_decrease': 0.0001}\n"
          ],
          "name": "stdout"
        }
      ]
    }
  ]
}