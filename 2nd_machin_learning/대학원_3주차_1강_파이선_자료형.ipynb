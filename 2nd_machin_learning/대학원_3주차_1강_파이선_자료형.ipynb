{
  "nbformat": 4,
  "nbformat_minor": 0,
  "metadata": {
    "colab": {
      "name": "대학원_3주차_1강_파이선 자료형.ipynb",
      "provenance": [],
      "authorship_tag": "ABX9TyN8/5uAmcZHT9hxsm/QZnAB",
      "include_colab_link": true
    },
    "kernelspec": {
      "name": "python3",
      "display_name": "Python 3"
    },
    "language_info": {
      "name": "python"
    }
  },
  "cells": [
    {
      "cell_type": "markdown",
      "metadata": {
        "id": "view-in-github",
        "colab_type": "text"
      },
      "source": [
        "<a href=\"https://colab.research.google.com/github/951237/ai_graduate/blob/master/%EB%8C%80%ED%95%99%EC%9B%90_3%EC%A3%BC%EC%B0%A8_1%EA%B0%95_%ED%8C%8C%EC%9D%B4%EC%84%A0_%EC%9E%90%EB%A3%8C%ED%98%95.ipynb\" target=\"_parent\"><img src=\"https://colab.research.google.com/assets/colab-badge.svg\" alt=\"Open In Colab\"/></a>"
      ]
    },
    {
      "cell_type": "markdown",
      "metadata": {
        "id": "xnhug7YmS0aR"
      },
      "source": [
        "### 집합 set"
      ]
    },
    {
      "cell_type": "code",
      "metadata": {
        "colab": {
          "base_uri": "https://localhost:8080/"
        },
        "id": "fno5u3UMTw3a",
        "outputId": "24013d4a-631e-4535-da10-c67be4e5e8f2"
      },
      "source": [
        "set = {1, 2, 3}\n",
        "set.add(4)\n",
        "set"
      ],
      "execution_count": null,
      "outputs": [
        {
          "output_type": "execute_result",
          "data": {
            "text/plain": [
              "{1, 2, 3, 4}"
            ]
          },
          "metadata": {
            "tags": []
          },
          "execution_count": 2
        }
      ]
    },
    {
      "cell_type": "code",
      "metadata": {
        "id": "q43UjiwGT2fR"
      },
      "source": [
        ""
      ],
      "execution_count": null,
      "outputs": []
    }
  ]
}