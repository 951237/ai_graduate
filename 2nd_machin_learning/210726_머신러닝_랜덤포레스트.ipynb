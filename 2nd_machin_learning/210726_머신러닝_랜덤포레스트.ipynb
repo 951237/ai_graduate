{
  "nbformat": 4,
  "nbformat_minor": 0,
  "metadata": {
    "colab": {
      "name": "210726 머신러닝 랜덤포레스트.ipynb",
      "provenance": [],
      "authorship_tag": "ABX9TyO2jk8FvwaOkGb8A9jjZ+Wd",
      "include_colab_link": true
    },
    "kernelspec": {
      "name": "python3",
      "display_name": "Python 3"
    },
    "language_info": {
      "name": "python"
    }
  },
  "cells": [
    {
      "cell_type": "markdown",
      "metadata": {
        "id": "view-in-github",
        "colab_type": "text"
      },
      "source": [
        "<a href=\"https://colab.research.google.com/github/951237/ai_graduate/blob/master/210726_%EB%A8%B8%EC%8B%A0%EB%9F%AC%EB%8B%9D_%EB%9E%9C%EB%8D%A4%ED%8F%AC%EB%A0%88%EC%8A%A4%ED%8A%B8.ipynb\" target=\"_parent\"><img src=\"https://colab.research.google.com/assets/colab-badge.svg\" alt=\"Open In Colab\"/></a>"
      ]
    },
    {
      "cell_type": "code",
      "metadata": {
        "id": "jtDjMjl-lK85"
      },
      "source": [
        "import numpy as np\n",
        "import pandas as pd\n",
        "from sklearn.model_selection import train_test_split\n",
        "\n",
        "wine = pd.read_csv('https://bit.ly/wine_csv_data')  # 데이터 불러오기\n"
      ],
      "execution_count": 1,
      "outputs": []
    },
    {
      "cell_type": "code",
      "metadata": {
        "id": "871ts9waljRc"
      },
      "source": [
        "# 머신러닝 데이터와 타겟 생성하기 \n",
        "data = wine[['alcohol', 'sugar', 'pH']].to_numpy()  # 넘파이로 변환해야함.\n",
        "target = wine['class'].to_numpy()  \n"
      ],
      "execution_count": 4,
      "outputs": []
    },
    {
      "cell_type": "code",
      "metadata": {
        "colab": {
          "base_uri": "https://localhost:8080/"
        },
        "id": "ya1dHdilly-Y",
        "outputId": "56b1d516-a70d-4478-8e40-998feddedaa8"
      },
      "source": [
        "print(data.shape, target.shape)"
      ],
      "execution_count": 5,
      "outputs": [
        {
          "output_type": "stream",
          "text": [
            "(6497, 3) (6497,)\n"
          ],
          "name": "stdout"
        }
      ]
    },
    {
      "cell_type": "code",
      "metadata": {
        "colab": {
          "base_uri": "https://localhost:8080/"
        },
        "id": "hCIegZJul3iC",
        "outputId": "b7ad23d2-f98c-4ee3-d7ab-55084e97e1e5"
      },
      "source": [
        "# 훈련세트, 테스트세트 분할하기\n",
        "train_input, test_input, train_target, test_target = train_test_split(data, target, test_size = 0.2, random_state = 42)\n",
        "\n",
        "print(train_input.shape, train_target.shape)\n",
        "print(test_input.shape, test_target.shape)\n"
      ],
      "execution_count": 7,
      "outputs": [
        {
          "output_type": "stream",
          "text": [
            "(5197, 3) (5197,)\n",
            "(1300, 3) (1300,)\n"
          ],
          "name": "stdout"
        }
      ]
    },
    {
      "cell_type": "code",
      "metadata": {
        "id": "jau3nOT8mQk5",
        "outputId": "fab683aa-9afb-42ea-db3b-64191836e62d",
        "colab": {
          "base_uri": "https://localhost:8080/"
        }
      },
      "source": [
        "# 교차검증하기\n",
        "from sklearn.model_selection import cross_validate  # 교차검증 라이브러리\n",
        "from sklearn.ensemble import RandomForestClassifier # 랜덤포리스트 라이브러리\n",
        "rf = RandomForestClassifier(n_jobs=-1, random_state = 42)\n",
        "\n",
        "score = cross_validate(rf, train_input, train_target, return_train_score=True, n_jobs=-1)\n",
        "print(np.mean(score['train_score']), np.mean(score['test_score']))  # 훈련, 테스트 점수 출력"
      ],
      "execution_count": 8,
      "outputs": [
        {
          "output_type": "stream",
          "text": [
            "0.9973541965122431 0.8905151032797809\n"
          ],
          "name": "stdout"
        }
      ]
    },
    {
      "cell_type": "code",
      "metadata": {
        "id": "AFfcvQCwnMJS",
        "outputId": "92d50073-02b6-46d3-cb24-32bd98597db0",
        "colab": {
          "base_uri": "https://localhost:8080/"
        }
      },
      "source": [
        "# 피처 중요도 출력하기\n",
        "rf.fit(train_input, train_target)\n",
        "print(rf.feature_importances_)"
      ],
      "execution_count": 9,
      "outputs": [
        {
          "output_type": "stream",
          "text": [
            "[0.23167441 0.50039841 0.26792718]\n"
          ],
          "name": "stdout"
        }
      ]
    },
    {
      "cell_type": "code",
      "metadata": {
        "id": "ZiLlDO8fnYSW",
        "outputId": "9fc175e6-568e-456c-bdd1-d42e638757f7",
        "colab": {
          "base_uri": "https://localhost:8080/"
        }
      },
      "source": [
        "# 랜덤포리스트 검증세트 출력하기\n",
        "rf = RandomForestClassifier(oob_score=True, n_jobs=-1, random_state=42) #oob_score - 검증세트 점수 설정\n",
        "rf.fit(train_input, train_target)\n",
        "print(rf.oob_score_)"
      ],
      "execution_count": 11,
      "outputs": [
        {
          "output_type": "stream",
          "text": [
            "0.8934000384837406\n"
          ],
          "name": "stdout"
        }
      ]
    },
    {
      "cell_type": "code",
      "metadata": {
        "id": "Sfs6tDhonte-"
      },
      "source": [
        ""
      ],
      "execution_count": null,
      "outputs": []
    }
  ]
}