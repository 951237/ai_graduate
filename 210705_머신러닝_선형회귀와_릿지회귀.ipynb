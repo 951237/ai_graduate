{
  "nbformat": 4,
  "nbformat_minor": 0,
  "metadata": {
    "colab": {
      "name": "210705_머신러닝 선형회귀와 릿지회귀.ipynb",
      "provenance": [],
      "authorship_tag": "ABX9TyOotMOwWxHD49euJ2aI5dJR",
      "include_colab_link": true
    },
    "kernelspec": {
      "name": "python3",
      "display_name": "Python 3"
    },
    "language_info": {
      "name": "python"
    }
  },
  "cells": [
    {
      "cell_type": "markdown",
      "metadata": {
        "id": "view-in-github",
        "colab_type": "text"
      },
      "source": [
        "<a href=\"https://colab.research.google.com/github/951237/ai_graduate/blob/master/210705_%EB%A8%B8%EC%8B%A0%EB%9F%AC%EB%8B%9D_%EC%84%A0%ED%98%95%ED%9A%8C%EA%B7%80%EC%99%80_%EB%A6%BF%EC%A7%80%ED%9A%8C%EA%B7%80.ipynb\" target=\"_parent\"><img src=\"https://colab.research.google.com/assets/colab-badge.svg\" alt=\"Open In Colab\"/></a>"
      ]
    },
    {
      "cell_type": "code",
      "metadata": {
        "colab": {
          "base_uri": "https://localhost:8080/"
        },
        "id": "OIOpw5_lDyvE",
        "outputId": "92608df8-455c-4a6b-fa1e-8afb835ca85e"
      },
      "source": [
        "!pip install mglearn\n",
        "from sklearn.linear_model import LinearRegression\n",
        "from sklearn.model_selection import train_test_split\n",
        "import mglearn\n",
        "\n",
        "X, y = mglearn.datasets.make_wave(n_samples=60)\n",
        "X_train, X_test, y_train, y_test = train_test_split(X, y, random_state = 42)\n",
        "\n",
        "lr = LinearRegression().fit(X_train, y_train)\n",
        "\n",
        "# 가중치와 편향 구하기\n",
        "print(f\"lr.coef_ : {lr.coef_}\")\n",
        "print(f\"lr.intercept_ : {lr.intercept_}\")\n",
        "\n",
        "# 테스트, 훈련세트 성틍\n",
        "print(f\"train score : {lr.score(X_train, y_train)}\")\n",
        "print(f\"train score : {lr.score(X_test, y_test)}\")\n",
        "print()\n",
        "\n",
        "X, y = mglearn.datasets.load_extended_boston()\n",
        "X_train, X_test, y_train, y_test = train_test_split(X, y, random_state = 0)\n",
        "\n",
        "lr = LinearRegression().fit(X_train, y_train)\n",
        "\n",
        "print(f\"LR train score : {lr.score(X_train, y_train)}\")\n",
        "print(f\"LR test score : {lr.score(X_test, y_test)}\")\n"
      ],
      "execution_count": 22,
      "outputs": [
        {
          "output_type": "stream",
          "text": [
            "lr.coef_ : [0.39390555]\n",
            "lr.intercept_ : -0.031804343026759746\n",
            "train score : 0.6700890315075756\n",
            "train score : 0.65933685968637\n",
            "\n",
            "LR train score : 0.9520519609032727\n",
            "LR test score : 0.607472195966557\n"
          ],
          "name": "stdout"
        }
      ]
    },
    {
      "cell_type": "markdown",
      "metadata": {
        "id": "8taLd_g9EJvN"
      },
      "source": [
        "- 훈련세트와 테스트 세트의 점수차이가 많이 남"
      ]
    },
    {
      "cell_type": "code",
      "metadata": {
        "colab": {
          "base_uri": "https://localhost:8080/"
        },
        "id": "vhudEj9rBi0M",
        "outputId": "312092b3-e62f-447b-e9b3-b3b42c0ebaf7"
      },
      "source": [
        "# 릿지 회귀 \n",
        "from sklearn.linear_model import Ridge\n",
        "\n",
        "X, y = mglearn.datasets.load_extended_boston()\n",
        "X_train, X_test, y_train, y_test = train_test_split(X, y, random_state = 0)\n",
        "\n",
        "ridge = Ridge().fit(X_train, y_train)\n",
        "print(f\"Ridge train score : {ridge.score(X_train, y_train)}\")\n",
        "print(f\"Ridge test score : {ridge.score(X_test, y_test)}\")\n",
        "\n",
        "# 알파값을 10으로 설정 - 규제를 강화 \n",
        "ridge10 = Ridge(alpha=10).fit(X_train, y_train)\n",
        "print(f\"Ridge10 train score : {ridge10.score(X_train, y_train)}\")\n",
        "print(f\"Ridge10 test score : {ridge10.score(X_test, y_test)}\")"
      ],
      "execution_count": 21,
      "outputs": [
        {
          "output_type": "stream",
          "text": [
            "Ridge train score : 0.8857966585170941\n",
            "Ridge test score : 0.7527683481744751\n",
            "Ridge10 train score : 0.7882787115369614\n",
            "Ridge10 test score : 0.6359411489177309\n"
          ],
          "name": "stdout"
        }
      ]
    },
    {
      "cell_type": "code",
      "metadata": {
        "id": "4PBAlslZCcD8"
      },
      "source": [
        ""
      ],
      "execution_count": null,
      "outputs": []
    }
  ]
}