{
  "nbformat": 4,
  "nbformat_minor": 0,
  "metadata": {
    "colab": {
      "name": "대학원 2학기 머신러닝 선형회귀 210621.ipynb",
      "provenance": [],
      "authorship_tag": "ABX9TyMK8I0jdVyNSNBRHfXl1iAW",
      "include_colab_link": true
    },
    "kernelspec": {
      "name": "python3",
      "display_name": "Python 3"
    },
    "language_info": {
      "name": "python"
    }
  },
  "cells": [
    {
      "cell_type": "markdown",
      "metadata": {
        "id": "view-in-github",
        "colab_type": "text"
      },
      "source": [
        "<a href=\"https://colab.research.google.com/github/951237/ai_graduate/blob/master/%EB%8C%80%ED%95%99%EC%9B%90_2%ED%95%99%EA%B8%B0_%EB%A8%B8%EC%8B%A0%EB%9F%AC%EB%8B%9D_%EC%84%A0%ED%98%95%ED%9A%8C%EA%B7%80_210621.ipynb\" target=\"_parent\"><img src=\"https://colab.research.google.com/assets/colab-badge.svg\" alt=\"Open In Colab\"/></a>"
      ]
    },
    {
      "cell_type": "code",
      "metadata": {
        "id": "d7mib9K81q0W"
      },
      "source": [
        "# 농어 데이터\n",
        "import numpy as np\n",
        "perch_length = np.array([8.4, 13.7, 15.0, 16.2, 17.4, 18.0, 18.7, 19.0, 19.6, 20.0, 21.0,\n",
        "       21.0, 21.0, 21.3, 22.0, 22.0, 22.0, 22.0, 22.0, 22.5, 22.5, 22.7,\n",
        "       23.0, 23.5, 24.0, 24.0, 24.6, 25.0, 25.6, 26.5, 27.3, 27.5, 27.5,\n",
        "       27.5, 28.0, 28.7, 30.0, 32.8, 34.5, 35.0, 36.5, 36.0, 37.0, 37.0,\n",
        "       39.0, 39.0, 39.0, 40.0, 40.0, 40.0, 40.0, 42.0, 43.0, 43.0, 43.5,\n",
        "       44.0])\n",
        "perch_weight = np.array([5.9, 32.0, 40.0, 51.5, 70.0, 100.0, 78.0, 80.0, 85.0, 85.0, 110.0,\n",
        "       115.0, 125.0, 130.0, 120.0, 120.0, 130.0, 135.0, 110.0, 130.0,\n",
        "       150.0, 145.0, 150.0, 170.0, 225.0, 145.0, 188.0, 180.0, 197.0,\n",
        "       218.0, 300.0, 260.0, 265.0, 250.0, 250.0, 300.0, 320.0, 514.0,\n",
        "       556.0, 840.0, 685.0, 700.0, 700.0, 690.0, 900.0, 650.0, 820.0,\n",
        "       850.0, 900.0, 1015.0, 820.0, 1100.0, 1000.0, 1100.0, 1000.0,\n",
        "       1000.0])"
      ],
      "execution_count": 1,
      "outputs": []
    },
    {
      "cell_type": "code",
      "metadata": {
        "id": "uHJa7Cbx2FOm"
      },
      "source": [
        "# 훈련 세트와 테스트 세트 나누기\n",
        "from sklearn.model_selection import train_test_split\n",
        "train_input, test_input, train_target, test_target = train_test_split(perch_length, perch_weight, random_state=42)\n",
        "\n",
        "# 2차원 배열로 바꾸기\n",
        "train_input = train_input.reshape(-1,1)\n",
        "test_input = test_input.reshape(-1,1)"
      ],
      "execution_count": 2,
      "outputs": []
    },
    {
      "cell_type": "code",
      "metadata": {
        "colab": {
          "base_uri": "https://localhost:8080/"
        },
        "id": "DmpWkQk52pFx",
        "outputId": "a3223f80-f9be-4c3a-c3a1-56d411391581"
      },
      "source": [
        "# 모델 훈련시키기 - k 최근점 이웃으로 나타내기\n",
        "from sklearn.neighbors import KNeighborsRegressor\n",
        "knr = KNeighborsRegressor(n_neighbors=3)\n",
        "knr.fit(train_input, train_target)\n",
        "\n",
        "# 길이 50cm 농어 무게 예측하기\n",
        "print(knr.predict([[50]]))"
      ],
      "execution_count": 3,
      "outputs": [
        {
          "output_type": "stream",
          "text": [
            "[1033.33333333]\n"
          ],
          "name": "stdout"
        }
      ]
    },
    {
      "cell_type": "markdown",
      "metadata": {
        "id": "eemPQAI134ro"
      },
      "source": [
        "- 1.033kg으로 예측, 실제 50cm농어 무게는 훨씬더 많이 나감. 문제의 원인은?"
      ]
    },
    {
      "cell_type": "code",
      "metadata": {
        "colab": {
          "base_uri": "https://localhost:8080/",
          "height": 265
        },
        "id": "eyPmJ6Cf4QDP",
        "outputId": "7b067b15-36c9-47b6-d3e0-c4e33e4ff122"
      },
      "source": [
        "# 최근점 이웃을 산점도로 표시하기\n",
        "import matplotlib.pyplot as plt\n",
        "\n",
        "# 50cm 농어 이웃 구하기\n",
        "distances, indexes = knr.kneighbors([[50]])\n",
        "\n",
        "# 훈련세트의 산점도 그리기\n",
        "plt.scatter(train_input, train_target)\n",
        "\n",
        "# 50cm 농어 이웃 샘플 산점도 그리기\n",
        "plt.scatter(train_input[indexes], train_target[indexes], marker = 'D')\n",
        "\n",
        "# 50cm 농어 데이터 산점도 표시\n",
        "plt.scatter(50, 1033, marker = '^')\n",
        "plt.show()\n"
      ],
      "execution_count": 4,
      "outputs": [
        {
          "output_type": "display_data",
          "data": {
            "image/png": "[encoded data removed]",
            "text/plain": [
              "<Figure size 432x288 with 1 Axes>"
            ]
          },
          "metadata": {
            "tags": [],
            "needs_background": "light"
          }
        }
      ]
    },
    {
      "cell_type": "code",
      "metadata": {
        "colab": {
          "base_uri": "https://localhost:8080/"
        },
        "id": "hG-OJQaK5Chd",
        "outputId": "e2ab2f8d-e895-4bac-8168-1ede98d222bc"
      },
      "source": [
        "# 선형회귀 알고리즘 적용하기\n",
        "from sklearn.linear_model import LinearRegression\n",
        "lr = LinearRegression()\n",
        "\n",
        "# 선형회귀 모델로 훈련\n",
        "lr.fit(train_input, train_target)\n",
        "# 50cm 농어에 대한 예측\n",
        "print(lr.predict([[50]]))"
      ],
      "execution_count": 5,
      "outputs": [
        {
          "output_type": "stream",
          "text": [
            "[1241.83860323]\n"
          ],
          "name": "stdout"
        }
      ]
    },
    {
      "cell_type": "code",
      "metadata": {
        "colab": {
          "base_uri": "https://localhost:8080/"
        },
        "id": "ns-otgBC55Yv",
        "outputId": "0512b52d-ecde-42ac-ac4b-ec624658a38c"
      },
      "source": [
        "# 기울기와 y 절편 출력하기\n",
        "print(lr.coef_, lr.intercept_)"
      ],
      "execution_count": 6,
      "outputs": [
        {
          "output_type": "stream",
          "text": [
            "[39.01714496] -709.0186449535477\n"
          ],
          "name": "stdout"
        }
      ]
    },
    {
      "cell_type": "code",
      "metadata": {
        "colab": {
          "base_uri": "https://localhost:8080/",
          "height": 265
        },
        "id": "Jl7s9jM56Hhf",
        "outputId": "5702369f-b633-4c07-e36b-aa8d406c340f"
      },
      "source": [
        "# 농어의 길이 15~50까지의 직선으로 그려보기\n",
        "plt.scatter(train_input, train_target)\n",
        "\n",
        "plt.plot([15,50], [15*lr.coef_+lr.intercept_,50*lr.coef_+lr.intercept_], color='g')\n",
        "plt.scatter(50, 1241.8, marker='^')\n",
        "plt.show()"
      ],
      "execution_count": 7,
      "outputs": [
        {
          "output_type": "display_data",
          "data": {
            "image/png": "[encoded data removed]",
            "text/plain": [
              "<Figure size 432x288 with 1 Axes>"
            ]
          },
          "metadata": {
            "tags": [],
            "needs_background": "light"
          }
        }
      ]
    },
    {
      "cell_type": "markdown",
      "metadata": {
        "id": "VEf54qne6zAV"
      },
      "source": [
        "# 210623 다항회귀"
      ]
    },
    {
      "cell_type": "code",
      "metadata": {
        "colab": {
          "base_uri": "https://localhost:8080/"
        },
        "id": "hucjC69JZ_UL",
        "outputId": "fa8f0f93-8a98-42ff-e0d7-937b3385ecd2"
      },
      "source": [
        "# 다항회귀 : 최적의 직선보다 최적의 곡선을 찾는 무제임\n",
        "train_poly = np.column_stack((train_input**2, train_input)) # 넘파이 브로드캐스팅 적용\n",
        "test_poly = np.column_stack((test_input**2, test_input))\n",
        "\n",
        "print(train_input.shape, test_input.shape)\n",
        "print(train_poly.shape, test_poly.shape)"
      ],
      "execution_count": 9,
      "outputs": [
        {
          "output_type": "stream",
          "text": [
            "(42, 1) (14, 1)\n",
            "(42, 2) (14, 2)\n"
          ],
          "name": "stdout"
        }
      ]
    },
    {
      "cell_type": "code",
      "metadata": {
        "colab": {
          "base_uri": "https://localhost:8080/"
        },
        "id": "JaB9UzkUbLMj",
        "outputId": "c2753062-b748-4507-f025-134c589f6cd2"
      },
      "source": [
        "# 선형회귀 모델다시 훈련하여 농어에 대한 무게 다시 예측하기\n",
        "lr2 = LinearRegression()\n",
        "lr2.fit(train_poly, train_target)\n",
        "print(lr2.predict([[50**2, 50]]))"
      ],
      "execution_count": 12,
      "outputs": [
        {
          "output_type": "stream",
          "text": [
            "[1573.98423528]\n"
          ],
          "name": "stdout"
        }
      ]
    },
    {
      "cell_type": "code",
      "metadata": {
        "colab": {
          "base_uri": "https://localhost:8080/",
          "height": 265
        },
        "id": "EtJUNMMdbvad",
        "outputId": "83ddcba9-18a3-46c3-d019-03d9e1db13ec"
      },
      "source": [
        "# 산점도 그리기\n",
        "point = np.arange(15,50)\n",
        "\n",
        "plt.scatter(train_input, train_target) # 훈련세트 산점도 그리기\n",
        "plt.plot(point, 1.01*point**2 - 21.6*point + 116.05, color='r') # 15~49까지의 2차 방정식 그래프\n",
        "\n",
        "plt.scatter([50], [1574], marker='^') # 50cm 농어 데이터 점찍기\n",
        "plt.show()"
      ],
      "execution_count": 14,
      "outputs": [
        {
          "output_type": "display_data",
          "data": {
            "image/png": "[encoded data removed]",
            "text/plain": [
              "<Figure size 432x288 with 1 Axes>"
            ]
          },
          "metadata": {
            "tags": [],
            "needs_background": "light"
          }
        }
      ]
    },
    {
      "cell_type": "markdown",
      "metadata": {
        "id": "lO2VlmOxcZaN"
      },
      "source": [
        "- 점수가 크게 높아졌지만, 여전히 테스트 세트의 점수가 조금 높아 과소 적합 문제 보임"
      ]
    },
    {
      "cell_type": "code",
      "metadata": {
        "id": "ZPGaRMoqcpOo"
      },
      "source": [
        ""
      ],
      "execution_count": null,
      "outputs": []
    }
  ]
}