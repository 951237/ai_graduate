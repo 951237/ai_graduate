{
  "nbformat": 4,
  "nbformat_minor": 0,
  "metadata": {
    "colab": {
      "name": "210717_learing machine_GradientBoostiong.ipynb",
      "provenance": [],
      "authorship_tag": "ABX9TyMx/67u3sRPtD2Nl+IliF+5",
      "include_colab_link": true
    },
    "kernelspec": {
      "name": "python3",
      "display_name": "Python 3"
    },
    "language_info": {
      "name": "python"
    }
  },
  "cells": [
    {
      "cell_type": "markdown",
      "metadata": {
        "id": "view-in-github",
        "colab_type": "text"
      },
      "source": [
        "<a href=\"https://colab.research.google.com/github/951237/ai_graduate/blob/master/210717_learing_machine_GradientBoostiong.ipynb\" target=\"_parent\"><img src=\"https://colab.research.google.com/assets/colab-badge.svg\" alt=\"Open In Colab\"/></a>"
      ]
    },
    {
      "cell_type": "code",
      "metadata": {
        "colab": {
          "base_uri": "https://localhost:8080/"
        },
        "id": "1nNV1vAzozJG",
        "outputId": "7f4751af-3441-48b3-a465-21e49f97b306"
      },
      "source": [
        "from sklearn.ensemble import GradientBoostingClassifier\n",
        "from sklearn.model_selection import train_test_split\n",
        "import numpy as np\n",
        "from sklearn.datasets import load_breast_cancer\n",
        "\n",
        "#load datasets\n",
        "cancer = load_breast_cancer()\n",
        "\n",
        "# split train, test datasets\n",
        "X_train, X_test, y_train, y_test = train_test_split(cancer.data, cancer.target, random_state=0)\n",
        "\n",
        "gbrt = GradientBoostingClassifier(random_state=0)\n",
        "gbrt.fit(X_train, y_train)\n",
        "\n",
        "print(f\"accuracy of train : {gbrt.score(X_train, y_train)}\")\n",
        "print(f\"accuracy of test : {gbrt.score(X_test, y_test)}\")\n"
      ],
      "execution_count": null,
      "outputs": [
        {
          "output_type": "stream",
          "text": [
            "accuracy of train : 1.0\n",
            "accuracy of test : 0.965034965034965\n"
          ],
          "name": "stdout"
        }
      ]
    },
    {
      "cell_type": "markdown",
      "metadata": {
        "id": "0Esd1NVnr6oe"
      },
      "source": [
        "## ㅁ매"
      ]
    },
    {
      "cell_type": "code",
      "metadata": {
        "colab": {
          "base_uri": "https://localhost:8080/"
        },
        "id": "o7W9_CWarilE",
        "outputId": "3ea19947-813c-4249-9778-dced5b5a98c2"
      },
      "source": [
        "from sklearn.ensemble import GradientBoostingClassifier\n",
        "from sklearn.model_selection import train_test_split\n",
        "import numpy as np\n",
        "from sklearn.datasets import load_breast_cancer\n",
        "\n",
        "#load datasets\n",
        "cancer = load_breast_cancer()\n",
        "\n",
        "# split train, test datasets\n",
        "X_train, X_test, y_train, y_test = train_test_split(cancer.data, cancer.target, random_state=0)\n",
        "\n",
        "gbrt = GradientBoostingClassifier(random_state=0, max_depth=1)\n",
        "gbrt.fit(X_train, y_train)\n",
        "\n",
        "print(f\"accuracy of train : {gbrt.score(X_train, y_train)}\")\n",
        "print(f\"accuracy of test : {gbrt.score(X_test, y_test)}\")\n"
      ],
      "execution_count": null,
      "outputs": [
        {
          "output_type": "stream",
          "text": [
            "accuracy of train : 0.9906103286384976\n",
            "accuracy of test : 0.972027972027972\n"
          ],
          "name": "stdout"
        }
      ]
    },
    {
      "cell_type": "markdown",
      "metadata": {
        "id": "_gIDiQvpsRJz"
      },
      "source": [
        "## learining_rate = 0.01"
      ]
    },
    {
      "cell_type": "code",
      "metadata": {
        "id": "6aB2dJoyr1wg",
        "colab": {
          "base_uri": "https://localhost:8080/"
        },
        "outputId": "ca102a0c-f052-4fbb-eff3-c46c77a75641"
      },
      "source": [
        "from sklearn.ensemble import GradientBoostingClassifier\n",
        "from sklearn.model_selection import train_test_split\n",
        "import numpy as np\n",
        "from sklearn.datasets import load_breast_cancer\n",
        "\n",
        "#load datasets\n",
        "cancer = load_breast_cancer()\n",
        "\n",
        "# split train, test datasets\n",
        "X_train, X_test, y_train, y_test = train_test_split(cancer.data, cancer.target, random_state=0)\n",
        "\n",
        "gbrt = GradientBoostingClassifier(random_state=0, learning_rate=0.01)\n",
        "gbrt.fit(X_train, y_train)\n",
        "\n",
        "print(f\"accuracy of train : {gbrt.score(X_train, y_train)}\")\n",
        "print(f\"accuracy of test : {gbrt.score(X_test, y_test)}\")\n"
      ],
      "execution_count": 11,
      "outputs": [
        {
          "output_type": "stream",
          "text": [
            "accuracy of train : 0.9882629107981221\n",
            "accuracy of test : 0.965034965034965\n"
          ],
          "name": "stdout"
        }
      ]
    },
    {
      "cell_type": "code",
      "metadata": {
        "id": "bNNg6G3MsNba"
      },
      "source": [
        ""
      ],
      "execution_count": null,
      "outputs": []
    }
  ]
}